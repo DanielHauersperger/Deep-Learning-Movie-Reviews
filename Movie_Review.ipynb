{
  "cells": [
    {
      "cell_type": "code",
      "execution_count": 2,
      "id": "000eeac5",
      "metadata": {
        "id": "000eeac5"
      },
      "outputs": [],
      "source": [
        "import pandas as pd\n",
        "import numpy as np \n",
        "from sklearn.preprocessing import OneHotEncoder\n",
        "import tensorflow.keras as keras\n",
        "from tensorflow.keras.preprocessing import sequence\n",
        "from tensorflow.keras.models import Sequential\n",
        "from tensorflow.keras.layers import Dense, Embedding, Dense, Activation, Dropout, LSTM, Bidirectional,SimpleRNN,GRU\n",
        "from tensorflow.keras.callbacks import EarlyStopping, ModelCheckpoint, ReduceLROnPlateau\n",
        "from sklearn.model_selection import train_test_split\n",
        "from tensorflow.keras.regularizers import l2\n",
        "from tensorflow.keras.utils import plot_model\n",
        "from sklearn.model_selection import train_test_split\n",
        "from keras.utils import to_categorical\n",
        "import matplotlib.pyplot as plt\n",
        "import os\n",
        "from keras.layers import Input, LSTM, Embedding, Dense\n",
        "from keras.models import Model\n",
        "from keras.models import Sequential\n",
        "from keras.layers import Dense, Activation\n",
        "from keras.layers import LSTM, Dropout\n",
        "from keras.callbacks import LambdaCallback\n",
        "from keras.layers import TimeDistributed\n",
        "from keras.optimizers import RMSprop\n",
        "from keras.utils import plot_model\n",
        "from keras.preprocessing.text import Tokenizer\n",
        "from keras_preprocessing.sequence import pad_sequences\n",
        "from keras.models import Sequential\n",
        "from keras import layers\n"
      ]
    },
    {
      "cell_type": "code",
      "source": [
        "from google.colab import drive\n",
        "drive.mount('/content/drive')"
      ],
      "metadata": {
        "colab": {
          "base_uri": "https://localhost:8080/"
        },
        "id": "Ipq-Yzc1dECk",
        "outputId": "ae8a2a5d-8efd-4501-e50e-e883e461b155"
      },
      "id": "Ipq-Yzc1dECk",
      "execution_count": 3,
      "outputs": [
        {
          "output_type": "stream",
          "name": "stdout",
          "text": [
            "Mounted at /content/drive\n"
          ]
        }
      ]
    },
    {
      "cell_type": "code",
      "execution_count": 3,
      "id": "768dab66",
      "metadata": {
        "id": "768dab66"
      },
      "outputs": [],
      "source": [
        "df = pd.read_csv('/content/drive/MyDrive/imdb.csv')"
      ]
    },
    {
      "cell_type": "code",
      "execution_count": 4,
      "id": "3c0c25e2",
      "metadata": {
        "colab": {
          "base_uri": "https://localhost:8080/",
          "height": 424
        },
        "id": "3c0c25e2",
        "outputId": "06b9b774-b3b2-4346-d1db-09d893c17e95"
      },
      "outputs": [
        {
          "output_type": "execute_result",
          "data": {
            "text/plain": [
              "                                                  review sentiment\n",
              "0      One of the other reviewers has mentioned that ...  positive\n",
              "1      A wonderful little production. <br /><br />The...  positive\n",
              "2      I thought this was a wonderful way to spend ti...  positive\n",
              "3      Basically there's a family where a little boy ...  negative\n",
              "4      Petter Mattei's \"Love in the Time of Money\" is...  positive\n",
              "...                                                  ...       ...\n",
              "49995  I thought this movie did a down right good job...  positive\n",
              "49996  Bad plot, bad dialogue, bad acting, idiotic di...  negative\n",
              "49997  I am a Catholic taught in parochial elementary...  negative\n",
              "49998  I'm going to have to disagree with the previou...  negative\n",
              "49999  No one expects the Star Trek movies to be high...  negative\n",
              "\n",
              "[50000 rows x 2 columns]"
            ],
            "text/html": [
              "\n",
              "  <div id=\"df-2d732242-9899-4402-8ff4-353cce2a8c9e\">\n",
              "    <div class=\"colab-df-container\">\n",
              "      <div>\n",
              "<style scoped>\n",
              "    .dataframe tbody tr th:only-of-type {\n",
              "        vertical-align: middle;\n",
              "    }\n",
              "\n",
              "    .dataframe tbody tr th {\n",
              "        vertical-align: top;\n",
              "    }\n",
              "\n",
              "    .dataframe thead th {\n",
              "        text-align: right;\n",
              "    }\n",
              "</style>\n",
              "<table border=\"1\" class=\"dataframe\">\n",
              "  <thead>\n",
              "    <tr style=\"text-align: right;\">\n",
              "      <th></th>\n",
              "      <th>review</th>\n",
              "      <th>sentiment</th>\n",
              "    </tr>\n",
              "  </thead>\n",
              "  <tbody>\n",
              "    <tr>\n",
              "      <th>0</th>\n",
              "      <td>One of the other reviewers has mentioned that ...</td>\n",
              "      <td>positive</td>\n",
              "    </tr>\n",
              "    <tr>\n",
              "      <th>1</th>\n",
              "      <td>A wonderful little production. &lt;br /&gt;&lt;br /&gt;The...</td>\n",
              "      <td>positive</td>\n",
              "    </tr>\n",
              "    <tr>\n",
              "      <th>2</th>\n",
              "      <td>I thought this was a wonderful way to spend ti...</td>\n",
              "      <td>positive</td>\n",
              "    </tr>\n",
              "    <tr>\n",
              "      <th>3</th>\n",
              "      <td>Basically there's a family where a little boy ...</td>\n",
              "      <td>negative</td>\n",
              "    </tr>\n",
              "    <tr>\n",
              "      <th>4</th>\n",
              "      <td>Petter Mattei's \"Love in the Time of Money\" is...</td>\n",
              "      <td>positive</td>\n",
              "    </tr>\n",
              "    <tr>\n",
              "      <th>...</th>\n",
              "      <td>...</td>\n",
              "      <td>...</td>\n",
              "    </tr>\n",
              "    <tr>\n",
              "      <th>49995</th>\n",
              "      <td>I thought this movie did a down right good job...</td>\n",
              "      <td>positive</td>\n",
              "    </tr>\n",
              "    <tr>\n",
              "      <th>49996</th>\n",
              "      <td>Bad plot, bad dialogue, bad acting, idiotic di...</td>\n",
              "      <td>negative</td>\n",
              "    </tr>\n",
              "    <tr>\n",
              "      <th>49997</th>\n",
              "      <td>I am a Catholic taught in parochial elementary...</td>\n",
              "      <td>negative</td>\n",
              "    </tr>\n",
              "    <tr>\n",
              "      <th>49998</th>\n",
              "      <td>I'm going to have to disagree with the previou...</td>\n",
              "      <td>negative</td>\n",
              "    </tr>\n",
              "    <tr>\n",
              "      <th>49999</th>\n",
              "      <td>No one expects the Star Trek movies to be high...</td>\n",
              "      <td>negative</td>\n",
              "    </tr>\n",
              "  </tbody>\n",
              "</table>\n",
              "<p>50000 rows × 2 columns</p>\n",
              "</div>\n",
              "      <button class=\"colab-df-convert\" onclick=\"convertToInteractive('df-2d732242-9899-4402-8ff4-353cce2a8c9e')\"\n",
              "              title=\"Convert this dataframe to an interactive table.\"\n",
              "              style=\"display:none;\">\n",
              "        \n",
              "  <svg xmlns=\"http://www.w3.org/2000/svg\" height=\"24px\"viewBox=\"0 0 24 24\"\n",
              "       width=\"24px\">\n",
              "    <path d=\"M0 0h24v24H0V0z\" fill=\"none\"/>\n",
              "    <path d=\"M18.56 5.44l.94 2.06.94-2.06 2.06-.94-2.06-.94-.94-2.06-.94 2.06-2.06.94zm-11 1L8.5 8.5l.94-2.06 2.06-.94-2.06-.94L8.5 2.5l-.94 2.06-2.06.94zm10 10l.94 2.06.94-2.06 2.06-.94-2.06-.94-.94-2.06-.94 2.06-2.06.94z\"/><path d=\"M17.41 7.96l-1.37-1.37c-.4-.4-.92-.59-1.43-.59-.52 0-1.04.2-1.43.59L10.3 9.45l-7.72 7.72c-.78.78-.78 2.05 0 2.83L4 21.41c.39.39.9.59 1.41.59.51 0 1.02-.2 1.41-.59l7.78-7.78 2.81-2.81c.8-.78.8-2.07 0-2.86zM5.41 20L4 18.59l7.72-7.72 1.47 1.35L5.41 20z\"/>\n",
              "  </svg>\n",
              "      </button>\n",
              "      \n",
              "  <style>\n",
              "    .colab-df-container {\n",
              "      display:flex;\n",
              "      flex-wrap:wrap;\n",
              "      gap: 12px;\n",
              "    }\n",
              "\n",
              "    .colab-df-convert {\n",
              "      background-color: #E8F0FE;\n",
              "      border: none;\n",
              "      border-radius: 50%;\n",
              "      cursor: pointer;\n",
              "      display: none;\n",
              "      fill: #1967D2;\n",
              "      height: 32px;\n",
              "      padding: 0 0 0 0;\n",
              "      width: 32px;\n",
              "    }\n",
              "\n",
              "    .colab-df-convert:hover {\n",
              "      background-color: #E2EBFA;\n",
              "      box-shadow: 0px 1px 2px rgba(60, 64, 67, 0.3), 0px 1px 3px 1px rgba(60, 64, 67, 0.15);\n",
              "      fill: #174EA6;\n",
              "    }\n",
              "\n",
              "    [theme=dark] .colab-df-convert {\n",
              "      background-color: #3B4455;\n",
              "      fill: #D2E3FC;\n",
              "    }\n",
              "\n",
              "    [theme=dark] .colab-df-convert:hover {\n",
              "      background-color: #434B5C;\n",
              "      box-shadow: 0px 1px 3px 1px rgba(0, 0, 0, 0.15);\n",
              "      filter: drop-shadow(0px 1px 2px rgba(0, 0, 0, 0.3));\n",
              "      fill: #FFFFFF;\n",
              "    }\n",
              "  </style>\n",
              "\n",
              "      <script>\n",
              "        const buttonEl =\n",
              "          document.querySelector('#df-2d732242-9899-4402-8ff4-353cce2a8c9e button.colab-df-convert');\n",
              "        buttonEl.style.display =\n",
              "          google.colab.kernel.accessAllowed ? 'block' : 'none';\n",
              "\n",
              "        async function convertToInteractive(key) {\n",
              "          const element = document.querySelector('#df-2d732242-9899-4402-8ff4-353cce2a8c9e');\n",
              "          const dataTable =\n",
              "            await google.colab.kernel.invokeFunction('convertToInteractive',\n",
              "                                                     [key], {});\n",
              "          if (!dataTable) return;\n",
              "\n",
              "          const docLinkHtml = 'Like what you see? Visit the ' +\n",
              "            '<a target=\"_blank\" href=https://colab.research.google.com/notebooks/data_table.ipynb>data table notebook</a>'\n",
              "            + ' to learn more about interactive tables.';\n",
              "          element.innerHTML = '';\n",
              "          dataTable['output_type'] = 'display_data';\n",
              "          await google.colab.output.renderOutput(dataTable, element);\n",
              "          const docLink = document.createElement('div');\n",
              "          docLink.innerHTML = docLinkHtml;\n",
              "          element.appendChild(docLink);\n",
              "        }\n",
              "      </script>\n",
              "    </div>\n",
              "  </div>\n",
              "  "
            ]
          },
          "metadata": {},
          "execution_count": 4
        }
      ],
      "source": [
        "df"
      ]
    },
    {
      "cell_type": "code",
      "execution_count": 7,
      "id": "47783359",
      "metadata": {
        "id": "47783359"
      },
      "outputs": [],
      "source": [
        "def plot_history(history):\n",
        "    acc = history.history['accuracy']\n",
        "    val_acc = history.history['val_accuracy']\n",
        "    loss = history.history['loss']\n",
        "    val_loss = history.history['val_loss']\n",
        "    x = range(1, len(acc) + 1)\n",
        "\n",
        "    plt.figure(figsize=(12, 5))\n",
        "    plt.subplot(1, 2, 1)\n",
        "    plt.plot(x, acc, 'b', label='Training acc')\n",
        "    plt.plot(x, val_acc, 'r', label='Validation acc')\n",
        "    plt.title('Training and validation accuracy')\n",
        "    plt.legend()\n",
        "    plt.subplot(1, 2, 2)\n",
        "    plt.plot(x, loss, 'b', label='Training loss')\n",
        "    plt.plot(x, val_loss, 'r', label='Validation loss')\n",
        "    plt.title('Training and validation loss')\n",
        "    plt.legend()\n"
      ]
    },
    {
      "cell_type": "code",
      "execution_count": 6,
      "id": "5c534935",
      "metadata": {
        "id": "5c534935"
      },
      "outputs": [],
      "source": [
        "def preporcessing(df):\n",
        "    for i in range(len(df)):\n",
        "        df['review'].iloc[i] = df['review'].iloc[i].replace('<br />','')\n",
        "        df['review'].iloc[i] = df['review'].iloc[i].lower()\n",
        "    return df\n",
        "        \n",
        "df = preporcessing(df)"
      ]
    },
    {
      "cell_type": "code",
      "execution_count": 7,
      "id": "ee240037",
      "metadata": {
        "colab": {
          "base_uri": "https://localhost:8080/",
          "height": 424
        },
        "id": "ee240037",
        "outputId": "3b003d46-ec4e-477f-d848-cc1b76ec0eae"
      },
      "outputs": [
        {
          "output_type": "execute_result",
          "data": {
            "text/plain": [
              "                                                  review sentiment\n",
              "0      one of the other reviewers has mentioned that ...  positive\n",
              "1      a wonderful little production. the filming tec...  positive\n",
              "2      i thought this was a wonderful way to spend ti...  positive\n",
              "3      basically there's a family where a little boy ...  negative\n",
              "4      petter mattei's \"love in the time of money\" is...  positive\n",
              "...                                                  ...       ...\n",
              "49995  i thought this movie did a down right good job...  positive\n",
              "49996  bad plot, bad dialogue, bad acting, idiotic di...  negative\n",
              "49997  i am a catholic taught in parochial elementary...  negative\n",
              "49998  i'm going to have to disagree with the previou...  negative\n",
              "49999  no one expects the star trek movies to be high...  negative\n",
              "\n",
              "[50000 rows x 2 columns]"
            ],
            "text/html": [
              "\n",
              "  <div id=\"df-aa2a1e04-a875-4f7d-85a3-f58e088c870e\">\n",
              "    <div class=\"colab-df-container\">\n",
              "      <div>\n",
              "<style scoped>\n",
              "    .dataframe tbody tr th:only-of-type {\n",
              "        vertical-align: middle;\n",
              "    }\n",
              "\n",
              "    .dataframe tbody tr th {\n",
              "        vertical-align: top;\n",
              "    }\n",
              "\n",
              "    .dataframe thead th {\n",
              "        text-align: right;\n",
              "    }\n",
              "</style>\n",
              "<table border=\"1\" class=\"dataframe\">\n",
              "  <thead>\n",
              "    <tr style=\"text-align: right;\">\n",
              "      <th></th>\n",
              "      <th>review</th>\n",
              "      <th>sentiment</th>\n",
              "    </tr>\n",
              "  </thead>\n",
              "  <tbody>\n",
              "    <tr>\n",
              "      <th>0</th>\n",
              "      <td>one of the other reviewers has mentioned that ...</td>\n",
              "      <td>positive</td>\n",
              "    </tr>\n",
              "    <tr>\n",
              "      <th>1</th>\n",
              "      <td>a wonderful little production. the filming tec...</td>\n",
              "      <td>positive</td>\n",
              "    </tr>\n",
              "    <tr>\n",
              "      <th>2</th>\n",
              "      <td>i thought this was a wonderful way to spend ti...</td>\n",
              "      <td>positive</td>\n",
              "    </tr>\n",
              "    <tr>\n",
              "      <th>3</th>\n",
              "      <td>basically there's a family where a little boy ...</td>\n",
              "      <td>negative</td>\n",
              "    </tr>\n",
              "    <tr>\n",
              "      <th>4</th>\n",
              "      <td>petter mattei's \"love in the time of money\" is...</td>\n",
              "      <td>positive</td>\n",
              "    </tr>\n",
              "    <tr>\n",
              "      <th>...</th>\n",
              "      <td>...</td>\n",
              "      <td>...</td>\n",
              "    </tr>\n",
              "    <tr>\n",
              "      <th>49995</th>\n",
              "      <td>i thought this movie did a down right good job...</td>\n",
              "      <td>positive</td>\n",
              "    </tr>\n",
              "    <tr>\n",
              "      <th>49996</th>\n",
              "      <td>bad plot, bad dialogue, bad acting, idiotic di...</td>\n",
              "      <td>negative</td>\n",
              "    </tr>\n",
              "    <tr>\n",
              "      <th>49997</th>\n",
              "      <td>i am a catholic taught in parochial elementary...</td>\n",
              "      <td>negative</td>\n",
              "    </tr>\n",
              "    <tr>\n",
              "      <th>49998</th>\n",
              "      <td>i'm going to have to disagree with the previou...</td>\n",
              "      <td>negative</td>\n",
              "    </tr>\n",
              "    <tr>\n",
              "      <th>49999</th>\n",
              "      <td>no one expects the star trek movies to be high...</td>\n",
              "      <td>negative</td>\n",
              "    </tr>\n",
              "  </tbody>\n",
              "</table>\n",
              "<p>50000 rows × 2 columns</p>\n",
              "</div>\n",
              "      <button class=\"colab-df-convert\" onclick=\"convertToInteractive('df-aa2a1e04-a875-4f7d-85a3-f58e088c870e')\"\n",
              "              title=\"Convert this dataframe to an interactive table.\"\n",
              "              style=\"display:none;\">\n",
              "        \n",
              "  <svg xmlns=\"http://www.w3.org/2000/svg\" height=\"24px\"viewBox=\"0 0 24 24\"\n",
              "       width=\"24px\">\n",
              "    <path d=\"M0 0h24v24H0V0z\" fill=\"none\"/>\n",
              "    <path d=\"M18.56 5.44l.94 2.06.94-2.06 2.06-.94-2.06-.94-.94-2.06-.94 2.06-2.06.94zm-11 1L8.5 8.5l.94-2.06 2.06-.94-2.06-.94L8.5 2.5l-.94 2.06-2.06.94zm10 10l.94 2.06.94-2.06 2.06-.94-2.06-.94-.94-2.06-.94 2.06-2.06.94z\"/><path d=\"M17.41 7.96l-1.37-1.37c-.4-.4-.92-.59-1.43-.59-.52 0-1.04.2-1.43.59L10.3 9.45l-7.72 7.72c-.78.78-.78 2.05 0 2.83L4 21.41c.39.39.9.59 1.41.59.51 0 1.02-.2 1.41-.59l7.78-7.78 2.81-2.81c.8-.78.8-2.07 0-2.86zM5.41 20L4 18.59l7.72-7.72 1.47 1.35L5.41 20z\"/>\n",
              "  </svg>\n",
              "      </button>\n",
              "      \n",
              "  <style>\n",
              "    .colab-df-container {\n",
              "      display:flex;\n",
              "      flex-wrap:wrap;\n",
              "      gap: 12px;\n",
              "    }\n",
              "\n",
              "    .colab-df-convert {\n",
              "      background-color: #E8F0FE;\n",
              "      border: none;\n",
              "      border-radius: 50%;\n",
              "      cursor: pointer;\n",
              "      display: none;\n",
              "      fill: #1967D2;\n",
              "      height: 32px;\n",
              "      padding: 0 0 0 0;\n",
              "      width: 32px;\n",
              "    }\n",
              "\n",
              "    .colab-df-convert:hover {\n",
              "      background-color: #E2EBFA;\n",
              "      box-shadow: 0px 1px 2px rgba(60, 64, 67, 0.3), 0px 1px 3px 1px rgba(60, 64, 67, 0.15);\n",
              "      fill: #174EA6;\n",
              "    }\n",
              "\n",
              "    [theme=dark] .colab-df-convert {\n",
              "      background-color: #3B4455;\n",
              "      fill: #D2E3FC;\n",
              "    }\n",
              "\n",
              "    [theme=dark] .colab-df-convert:hover {\n",
              "      background-color: #434B5C;\n",
              "      box-shadow: 0px 1px 3px 1px rgba(0, 0, 0, 0.15);\n",
              "      filter: drop-shadow(0px 1px 2px rgba(0, 0, 0, 0.3));\n",
              "      fill: #FFFFFF;\n",
              "    }\n",
              "  </style>\n",
              "\n",
              "      <script>\n",
              "        const buttonEl =\n",
              "          document.querySelector('#df-aa2a1e04-a875-4f7d-85a3-f58e088c870e button.colab-df-convert');\n",
              "        buttonEl.style.display =\n",
              "          google.colab.kernel.accessAllowed ? 'block' : 'none';\n",
              "\n",
              "        async function convertToInteractive(key) {\n",
              "          const element = document.querySelector('#df-aa2a1e04-a875-4f7d-85a3-f58e088c870e');\n",
              "          const dataTable =\n",
              "            await google.colab.kernel.invokeFunction('convertToInteractive',\n",
              "                                                     [key], {});\n",
              "          if (!dataTable) return;\n",
              "\n",
              "          const docLinkHtml = 'Like what you see? Visit the ' +\n",
              "            '<a target=\"_blank\" href=https://colab.research.google.com/notebooks/data_table.ipynb>data table notebook</a>'\n",
              "            + ' to learn more about interactive tables.';\n",
              "          element.innerHTML = '';\n",
              "          dataTable['output_type'] = 'display_data';\n",
              "          await google.colab.output.renderOutput(dataTable, element);\n",
              "          const docLink = document.createElement('div');\n",
              "          docLink.innerHTML = docLinkHtml;\n",
              "          element.appendChild(docLink);\n",
              "        }\n",
              "      </script>\n",
              "    </div>\n",
              "  </div>\n",
              "  "
            ]
          },
          "metadata": {},
          "execution_count": 7
        }
      ],
      "source": [
        "df"
      ]
    },
    {
      "cell_type": "code",
      "execution_count": 8,
      "id": "e3590614",
      "metadata": {
        "colab": {
          "base_uri": "https://localhost:8080/"
        },
        "id": "e3590614",
        "outputId": "52d472dc-8695-4c4e-b763-22455ce832af"
      },
      "outputs": [
        {
          "output_type": "execute_result",
          "data": {
            "text/plain": [
              "2450"
            ]
          },
          "metadata": {},
          "execution_count": 8
        }
      ],
      "source": [
        "df['review'].fillna('').apply(lambda x:len(x.split())).max()"
      ]
    },
    {
      "cell_type": "code",
      "execution_count": 9,
      "id": "6c72b04f",
      "metadata": {
        "id": "6c72b04f"
      },
      "outputs": [],
      "source": [
        "X = df['review']\n",
        "y = df['sentiment']"
      ]
    },
    {
      "cell_type": "code",
      "execution_count": 10,
      "id": "4be8caf3",
      "metadata": {
        "id": "4be8caf3"
      },
      "outputs": [],
      "source": [
        "X_train, X_test, y_train, y_test = train_test_split(X, y,test_size=0.2, shuffle=True)"
      ]
    },
    {
      "cell_type": "code",
      "execution_count": 11,
      "id": "459b95ad",
      "metadata": {
        "colab": {
          "base_uri": "https://localhost:8080/"
        },
        "id": "459b95ad",
        "outputId": "5740195d-b289-4dab-eac0-37da8018252c"
      },
      "outputs": [
        {
          "output_type": "execute_result",
          "data": {
            "text/plain": [
              "2450"
            ]
          },
          "metadata": {},
          "execution_count": 11
        }
      ],
      "source": [
        "X_train.fillna('').apply(lambda x:len(x.split())).max()"
      ]
    },
    {
      "cell_type": "code",
      "execution_count": 12,
      "id": "d3b69e80",
      "metadata": {
        "colab": {
          "base_uri": "https://localhost:8080/"
        },
        "id": "d3b69e80",
        "outputId": "9940e590-af05-43df-c160-6fa39b8040d3"
      },
      "outputs": [
        {
          "output_type": "execute_result",
          "data": {
            "text/plain": [
              "1709"
            ]
          },
          "metadata": {},
          "execution_count": 12
        }
      ],
      "source": [
        "X_test.fillna('').apply(lambda x:len(x.split())).max()"
      ]
    },
    {
      "cell_type": "code",
      "execution_count": 13,
      "id": "0b231b0d",
      "metadata": {
        "id": "0b231b0d"
      },
      "outputs": [],
      "source": [
        "X_train = X_train.values\n",
        "X_test = X_test.values"
      ]
    },
    {
      "cell_type": "code",
      "execution_count": 14,
      "id": "e5082dc1",
      "metadata": {
        "id": "e5082dc1"
      },
      "outputs": [],
      "source": [
        "y_train = y_train.apply(lambda x:1 if x=='positive' else 0)\n",
        "y_test = y_test.apply(lambda x:1 if x=='positive' else 0)"
      ]
    },
    {
      "cell_type": "code",
      "execution_count": 15,
      "id": "8a850ef2",
      "metadata": {
        "id": "8a850ef2"
      },
      "outputs": [],
      "source": [
        "tokenizer = Tokenizer(num_words=5000)\n",
        "tokenizer.fit_on_texts(X_train)"
      ]
    },
    {
      "cell_type": "code",
      "execution_count": 16,
      "id": "b954b073",
      "metadata": {
        "id": "b954b073"
      },
      "outputs": [],
      "source": [
        "X_train = tokenizer.texts_to_sequences(X_train)\n",
        "X_test = tokenizer.texts_to_sequences(X_test)\n"
      ]
    },
    {
      "cell_type": "code",
      "execution_count": 17,
      "id": "bcfa124d",
      "metadata": {
        "id": "bcfa124d"
      },
      "outputs": [],
      "source": [
        "vocab_size = len(tokenizer.word_index) + 1\n"
      ]
    },
    {
      "cell_type": "code",
      "execution_count": 18,
      "id": "e4b31e94",
      "metadata": {
        "id": "e4b31e94"
      },
      "outputs": [],
      "source": [
        "maxlen = 2500\n",
        "X_train = pad_sequences(X_train, padding='post', maxlen=maxlen)\n",
        "X_test = pad_sequences(X_test, padding='post', maxlen=maxlen)\n"
      ]
    },
    {
      "cell_type": "code",
      "execution_count": 19,
      "id": "ba8d1060",
      "metadata": {
        "colab": {
          "base_uri": "https://localhost:8080/"
        },
        "id": "ba8d1060",
        "outputId": "84ab864d-f958-4a57-ce5f-96f2e6fc5af0"
      },
      "outputs": [
        {
          "output_type": "execute_result",
          "data": {
            "text/plain": [
              "array([[1111,  756,    8, ...,    0,    0,    0],\n",
              "       [   1,    4,   10, ...,    0,    0,    0],\n",
              "       [1441,  951,    6, ...,    0,    0,    0],\n",
              "       ...,\n",
              "       [1301,   11,  251, ...,    0,    0,    0],\n",
              "       [ 825,    1, 1161, ...,    0,    0,    0],\n",
              "       [   1, 3511,    6, ...,    0,    0,    0]], dtype=int32)"
            ]
          },
          "metadata": {},
          "execution_count": 19
        }
      ],
      "source": [
        "X_train # note: this is different every time"
      ]
    },
    {
      "cell_type": "code",
      "source": [
        "np.mean(y_train)"
      ],
      "metadata": {
        "colab": {
          "base_uri": "https://localhost:8080/"
        },
        "id": "WxWBWDVbmObX",
        "outputId": "4072c756-af50-492e-b547-b4c9e1d11a06"
      },
      "id": "WxWBWDVbmObX",
      "execution_count": 20,
      "outputs": [
        {
          "output_type": "execute_result",
          "data": {
            "text/plain": [
              "0.49945"
            ]
          },
          "metadata": {},
          "execution_count": 20
        }
      ]
    },
    {
      "cell_type": "code",
      "execution_count": null,
      "id": "ed80f1c3",
      "metadata": {
        "colab": {
          "base_uri": "https://localhost:8080/"
        },
        "id": "ed80f1c3",
        "outputId": "f32cccf4-c1ec-48f5-d145-9dfa55c995ea"
      },
      "outputs": [
        {
          "output_type": "stream",
          "name": "stdout",
          "text": [
            "Model: \"sequential_1\"\n",
            "_________________________________________________________________\n",
            " Layer (type)                Output Shape              Param #   \n",
            "=================================================================\n",
            " embedding_1 (Embedding)     (None, 2500, 50)          5705250   \n",
            "                                                                 \n",
            " flatten_1 (Flatten)         (None, 125000)            0         \n",
            "                                                                 \n",
            " dense_2 (Dense)             (None, 10)                1250010   \n",
            "                                                                 \n",
            " dense_3 (Dense)             (None, 1)                 11        \n",
            "                                                                 \n",
            "=================================================================\n",
            "Total params: 6,955,271\n",
            "Trainable params: 6,955,271\n",
            "Non-trainable params: 0\n",
            "_________________________________________________________________\n"
          ]
        }
      ],
      "source": [
        "embedding_dim = 50\n",
        "\n",
        "model_1 = Sequential()\n",
        "model_1.add(layers.Embedding(input_dim=vocab_size, \n",
        "                           output_dim=embedding_dim, \n",
        "                           input_length=maxlen))\n",
        "model_1.add(layers.Flatten())\n",
        "model_1.add(layers.Dense(10, activation='relu'))\n",
        "model_1.add(layers.Dense(1, activation='sigmoid'))\n",
        "model_1.compile(optimizer='adam',\n",
        "              loss='binary_crossentropy',\n",
        "              metrics=['accuracy'])\n",
        "model_1.summary()\n"
      ]
    },
    {
      "cell_type": "code",
      "execution_count": null,
      "id": "258f9492",
      "metadata": {
        "colab": {
          "base_uri": "https://localhost:8080/",
          "height": 718
        },
        "id": "258f9492",
        "outputId": "8c9483c1-2d5f-4fd8-f962-ede33840d66a"
      },
      "outputs": [
        {
          "output_type": "stream",
          "name": "stdout",
          "text": [
            "Epoch 1/10\n",
            "800/800 [==============================] - 90s 112ms/step - loss: 0.3824 - accuracy: 0.8235 - val_loss: 0.2783 - val_accuracy: 0.8846\n",
            "Epoch 2/10\n",
            "800/800 [==============================] - 90s 112ms/step - loss: 0.2042 - accuracy: 0.9215 - val_loss: 0.2754 - val_accuracy: 0.8923\n",
            "Epoch 3/10\n",
            "800/800 [==============================] - 88s 110ms/step - loss: 0.0947 - accuracy: 0.9715 - val_loss: 0.3427 - val_accuracy: 0.8825\n",
            "Epoch 4/10\n",
            "800/800 [==============================] - 91s 114ms/step - loss: 0.0243 - accuracy: 0.9961 - val_loss: 0.4134 - val_accuracy: 0.8797\n",
            "Epoch 5/10\n",
            "800/800 [==============================] - 90s 113ms/step - loss: 0.0055 - accuracy: 0.9995 - val_loss: 0.4547 - val_accuracy: 0.8814\n",
            "Epoch 6/10\n",
            "800/800 [==============================] - 90s 112ms/step - loss: 0.0015 - accuracy: 1.0000 - val_loss: 0.5339 - val_accuracy: 0.8835\n",
            "Epoch 7/10\n",
            "800/800 [==============================] - 90s 112ms/step - loss: 5.3712e-04 - accuracy: 1.0000 - val_loss: 0.5744 - val_accuracy: 0.8845\n",
            "Epoch 8/10\n",
            "800/800 [==============================] - 88s 111ms/step - loss: 2.6920e-04 - accuracy: 1.0000 - val_loss: 0.6134 - val_accuracy: 0.8856\n",
            "Epoch 9/10\n",
            "800/800 [==============================] - 91s 114ms/step - loss: 1.4525e-04 - accuracy: 1.0000 - val_loss: 0.6523 - val_accuracy: 0.8857\n",
            "Epoch 10/10\n",
            "800/800 [==============================] - 90s 113ms/step - loss: 8.0002e-05 - accuracy: 1.0000 - val_loss: 0.6947 - val_accuracy: 0.8840\n",
            "Training Accuracy: 1.0000\n",
            "Testing Accuracy:  1.0000\n"
          ]
        },
        {
          "output_type": "display_data",
          "data": {
            "text/plain": [
              "<Figure size 864x360 with 2 Axes>"
            ],
            "image/png": "[encoded data removed]"
          },
          "metadata": {
            "needs_background": "light"
          }
        }
      ],
      "source": [
        "history   = model_1.fit(X_train, y_train,\n",
        "                    epochs=10,\n",
        "                    verbose=True,\n",
        "                    validation_data=(X_test, y_test),\n",
        "                    batch_size=50)\n",
        "loss, accuracy = model_1.evaluate(X_train, y_train, verbose=False)\n",
        "print(\"Training Accuracy: {:.4f}\".format(accuracy))\n",
        "# loss, accuracy = model.evaluate(X_test, y_test, verbose=False)\n",
        "print(\"Testing Accuracy:  {:.4f}\".format(accuracy))\n",
        "plot_history(history)"
      ]
    },
    {
      "cell_type": "code",
      "source": [
        "embedding_dim = 50\n",
        "shortenlen = 500\n",
        "\n",
        "model = Sequential()\n",
        "model.add(layers.Embedding(input_dim=vocab_size, \n",
        "                           output_dim=embedding_dim, \n",
        "                           input_length=shortenlen))\n",
        "# model.add(layers.Embedding(input_dim = 500, output_dim=embedding_dim))\n",
        "model.add(layers.Masking(mask_value=0.0, input_shape=(None,embedding_dim)))\n",
        "model.add(layers.LSTM(50,activation='relu'))\n",
        "\n",
        "model.add(layers.Dense(1, activation='sigmoid'))\n",
        "model.compile(optimizer='adam',\n",
        "              loss='binary_crossentropy',\n",
        "              metrics=['accuracy'])\n",
        "model.summary()\n",
        "\n",
        "history = model.fit(X_train[:,:shortenlen], y_train,\n",
        "                    epochs=2,\n",
        "                    # verbose=True,\n",
        "                    validation_data=(X_test[:,:shortenlen], y_test))#,\n",
        "                    # batch_size=50)\n",
        "loss, accuracy = model.evaluate(X_train, y_train, verbose=False)\n",
        "print(\"Training Accuracy: {:.4f}\".format(accuracy))\n",
        "loss, accuracy = model.evaluate(X_test, y_test, verbose=False)\n",
        "print(\"Testing Accuracy:  {:.4f}\".format(accuracy))\n",
        "plot_history(history)\n"
      ],
      "metadata": {
        "colab": {
          "base_uri": "https://localhost:8080/",
          "height": 710
        },
        "id": "W1-xaETUo9fX",
        "outputId": "91ff7133-7f06-4b1f-f264-a6466e417760"
      },
      "id": "W1-xaETUo9fX",
      "execution_count": null,
      "outputs": [
        {
          "output_type": "stream",
          "name": "stdout",
          "text": [
            "Model: \"sequential_17\"\n",
            "_________________________________________________________________\n",
            " Layer (type)                Output Shape              Param #   \n",
            "=================================================================\n",
            " embedding_10 (Embedding)    (None, 500, 50)           5705250   \n",
            "                                                                 \n",
            " masking_11 (Masking)        (None, 500, 50)           0         \n",
            "                                                                 \n",
            " lstm_9 (LSTM)               (None, 50)                20200     \n",
            "                                                                 \n",
            " dense_10 (Dense)            (None, 1)                 51        \n",
            "                                                                 \n",
            "=================================================================\n",
            "Total params: 5,725,501\n",
            "Trainable params: 5,725,501\n",
            "Non-trainable params: 0\n",
            "_________________________________________________________________\n",
            "Epoch 1/2\n",
            " 756/1250 [=================>............] - ETA: 2:51 - loss: nan - accuracy: 0.4980"
          ]
        },
        {
          "output_type": "error",
          "ename": "KeyboardInterrupt",
          "evalue": "ignored",
          "traceback": [
            "\u001b[0;31m---------------------------------------------------------------------------\u001b[0m",
            "\u001b[0;31mKeyboardInterrupt\u001b[0m                         Traceback (most recent call last)",
            "\u001b[0;32m<ipython-input-44-724f942eb389>\u001b[0m in \u001b[0;36m<module>\u001b[0;34m\u001b[0m\n\u001b[1;32m     19\u001b[0m                     \u001b[0mepochs\u001b[0m\u001b[0;34m=\u001b[0m\u001b[0;36m2\u001b[0m\u001b[0;34m,\u001b[0m\u001b[0;34m\u001b[0m\u001b[0;34m\u001b[0m\u001b[0m\n\u001b[1;32m     20\u001b[0m                     \u001b[0;31m# verbose=True,\u001b[0m\u001b[0;34m\u001b[0m\u001b[0;34m\u001b[0m\u001b[0;34m\u001b[0m\u001b[0m\n\u001b[0;32m---> 21\u001b[0;31m                     validation_data=(X_test[:,:shortenlen], y_test))#,\n\u001b[0m\u001b[1;32m     22\u001b[0m                     \u001b[0;31m# batch_size=50)\u001b[0m\u001b[0;34m\u001b[0m\u001b[0;34m\u001b[0m\u001b[0;34m\u001b[0m\u001b[0m\n\u001b[1;32m     23\u001b[0m \u001b[0mloss\u001b[0m\u001b[0;34m,\u001b[0m \u001b[0maccuracy\u001b[0m \u001b[0;34m=\u001b[0m \u001b[0mmodel\u001b[0m\u001b[0;34m.\u001b[0m\u001b[0mevaluate\u001b[0m\u001b[0;34m(\u001b[0m\u001b[0mX_train\u001b[0m\u001b[0;34m,\u001b[0m \u001b[0my_train\u001b[0m\u001b[0;34m,\u001b[0m \u001b[0mverbose\u001b[0m\u001b[0;34m=\u001b[0m\u001b[0;32mFalse\u001b[0m\u001b[0;34m)\u001b[0m\u001b[0;34m\u001b[0m\u001b[0;34m\u001b[0m\u001b[0m\n",
            "\u001b[0;32m/usr/local/lib/python3.7/dist-packages/keras/utils/traceback_utils.py\u001b[0m in \u001b[0;36merror_handler\u001b[0;34m(*args, **kwargs)\u001b[0m\n\u001b[1;32m     62\u001b[0m     \u001b[0mfiltered_tb\u001b[0m \u001b[0;34m=\u001b[0m \u001b[0;32mNone\u001b[0m\u001b[0;34m\u001b[0m\u001b[0;34m\u001b[0m\u001b[0m\n\u001b[1;32m     63\u001b[0m     \u001b[0;32mtry\u001b[0m\u001b[0;34m:\u001b[0m\u001b[0;34m\u001b[0m\u001b[0;34m\u001b[0m\u001b[0m\n\u001b[0;32m---> 64\u001b[0;31m       \u001b[0;32mreturn\u001b[0m \u001b[0mfn\u001b[0m\u001b[0;34m(\u001b[0m\u001b[0;34m*\u001b[0m\u001b[0margs\u001b[0m\u001b[0;34m,\u001b[0m \u001b[0;34m**\u001b[0m\u001b[0mkwargs\u001b[0m\u001b[0;34m)\u001b[0m\u001b[0;34m\u001b[0m\u001b[0;34m\u001b[0m\u001b[0m\n\u001b[0m\u001b[1;32m     65\u001b[0m     \u001b[0;32mexcept\u001b[0m \u001b[0mException\u001b[0m \u001b[0;32mas\u001b[0m \u001b[0me\u001b[0m\u001b[0;34m:\u001b[0m  \u001b[0;31m# pylint: disable=broad-except\u001b[0m\u001b[0;34m\u001b[0m\u001b[0;34m\u001b[0m\u001b[0m\n\u001b[1;32m     66\u001b[0m       \u001b[0mfiltered_tb\u001b[0m \u001b[0;34m=\u001b[0m \u001b[0m_process_traceback_frames\u001b[0m\u001b[0;34m(\u001b[0m\u001b[0me\u001b[0m\u001b[0;34m.\u001b[0m\u001b[0m__traceback__\u001b[0m\u001b[0;34m)\u001b[0m\u001b[0;34m\u001b[0m\u001b[0;34m\u001b[0m\u001b[0m\n",
            "\u001b[0;32m/usr/local/lib/python3.7/dist-packages/keras/engine/training.py\u001b[0m in \u001b[0;36mfit\u001b[0;34m(self, x, y, batch_size, epochs, verbose, callbacks, validation_split, validation_data, shuffle, class_weight, sample_weight, initial_epoch, steps_per_epoch, validation_steps, validation_batch_size, validation_freq, max_queue_size, workers, use_multiprocessing)\u001b[0m\n\u001b[1;32m   1407\u001b[0m                 _r=1):\n\u001b[1;32m   1408\u001b[0m               \u001b[0mcallbacks\u001b[0m\u001b[0;34m.\u001b[0m\u001b[0mon_train_batch_begin\u001b[0m\u001b[0;34m(\u001b[0m\u001b[0mstep\u001b[0m\u001b[0;34m)\u001b[0m\u001b[0;34m\u001b[0m\u001b[0;34m\u001b[0m\u001b[0m\n\u001b[0;32m-> 1409\u001b[0;31m               \u001b[0mtmp_logs\u001b[0m \u001b[0;34m=\u001b[0m \u001b[0mself\u001b[0m\u001b[0;34m.\u001b[0m\u001b[0mtrain_function\u001b[0m\u001b[0;34m(\u001b[0m\u001b[0miterator\u001b[0m\u001b[0;34m)\u001b[0m\u001b[0;34m\u001b[0m\u001b[0;34m\u001b[0m\u001b[0m\n\u001b[0m\u001b[1;32m   1410\u001b[0m               \u001b[0;32mif\u001b[0m \u001b[0mdata_handler\u001b[0m\u001b[0;34m.\u001b[0m\u001b[0mshould_sync\u001b[0m\u001b[0;34m:\u001b[0m\u001b[0;34m\u001b[0m\u001b[0;34m\u001b[0m\u001b[0m\n\u001b[1;32m   1411\u001b[0m                 \u001b[0mcontext\u001b[0m\u001b[0;34m.\u001b[0m\u001b[0masync_wait\u001b[0m\u001b[0;34m(\u001b[0m\u001b[0;34m)\u001b[0m\u001b[0;34m\u001b[0m\u001b[0;34m\u001b[0m\u001b[0m\n",
            "\u001b[0;32m/usr/local/lib/python3.7/dist-packages/tensorflow/python/util/traceback_utils.py\u001b[0m in \u001b[0;36merror_handler\u001b[0;34m(*args, **kwargs)\u001b[0m\n\u001b[1;32m    148\u001b[0m     \u001b[0mfiltered_tb\u001b[0m \u001b[0;34m=\u001b[0m \u001b[0;32mNone\u001b[0m\u001b[0;34m\u001b[0m\u001b[0;34m\u001b[0m\u001b[0m\n\u001b[1;32m    149\u001b[0m     \u001b[0;32mtry\u001b[0m\u001b[0;34m:\u001b[0m\u001b[0;34m\u001b[0m\u001b[0;34m\u001b[0m\u001b[0m\n\u001b[0;32m--> 150\u001b[0;31m       \u001b[0;32mreturn\u001b[0m \u001b[0mfn\u001b[0m\u001b[0;34m(\u001b[0m\u001b[0;34m*\u001b[0m\u001b[0margs\u001b[0m\u001b[0;34m,\u001b[0m \u001b[0;34m**\u001b[0m\u001b[0mkwargs\u001b[0m\u001b[0;34m)\u001b[0m\u001b[0;34m\u001b[0m\u001b[0;34m\u001b[0m\u001b[0m\n\u001b[0m\u001b[1;32m    151\u001b[0m     \u001b[0;32mexcept\u001b[0m \u001b[0mException\u001b[0m \u001b[0;32mas\u001b[0m \u001b[0me\u001b[0m\u001b[0;34m:\u001b[0m\u001b[0;34m\u001b[0m\u001b[0;34m\u001b[0m\u001b[0m\n\u001b[1;32m    152\u001b[0m       \u001b[0mfiltered_tb\u001b[0m \u001b[0;34m=\u001b[0m \u001b[0m_process_traceback_frames\u001b[0m\u001b[0;34m(\u001b[0m\u001b[0me\u001b[0m\u001b[0;34m.\u001b[0m\u001b[0m__traceback__\u001b[0m\u001b[0;34m)\u001b[0m\u001b[0;34m\u001b[0m\u001b[0;34m\u001b[0m\u001b[0m\n",
            "\u001b[0;32m/usr/local/lib/python3.7/dist-packages/tensorflow/python/eager/def_function.py\u001b[0m in \u001b[0;36m__call__\u001b[0;34m(self, *args, **kwds)\u001b[0m\n\u001b[1;32m    913\u001b[0m \u001b[0;34m\u001b[0m\u001b[0m\n\u001b[1;32m    914\u001b[0m       \u001b[0;32mwith\u001b[0m \u001b[0mOptionalXlaContext\u001b[0m\u001b[0;34m(\u001b[0m\u001b[0mself\u001b[0m\u001b[0;34m.\u001b[0m\u001b[0m_jit_compile\u001b[0m\u001b[0;34m)\u001b[0m\u001b[0;34m:\u001b[0m\u001b[0;34m\u001b[0m\u001b[0;34m\u001b[0m\u001b[0m\n\u001b[0;32m--> 915\u001b[0;31m         \u001b[0mresult\u001b[0m \u001b[0;34m=\u001b[0m \u001b[0mself\u001b[0m\u001b[0;34m.\u001b[0m\u001b[0m_call\u001b[0m\u001b[0;34m(\u001b[0m\u001b[0;34m*\u001b[0m\u001b[0margs\u001b[0m\u001b[0;34m,\u001b[0m \u001b[0;34m**\u001b[0m\u001b[0mkwds\u001b[0m\u001b[0;34m)\u001b[0m\u001b[0;34m\u001b[0m\u001b[0;34m\u001b[0m\u001b[0m\n\u001b[0m\u001b[1;32m    916\u001b[0m \u001b[0;34m\u001b[0m\u001b[0m\n\u001b[1;32m    917\u001b[0m       \u001b[0mnew_tracing_count\u001b[0m \u001b[0;34m=\u001b[0m \u001b[0mself\u001b[0m\u001b[0;34m.\u001b[0m\u001b[0mexperimental_get_tracing_count\u001b[0m\u001b[0;34m(\u001b[0m\u001b[0;34m)\u001b[0m\u001b[0;34m\u001b[0m\u001b[0;34m\u001b[0m\u001b[0m\n",
            "\u001b[0;32m/usr/local/lib/python3.7/dist-packages/tensorflow/python/eager/def_function.py\u001b[0m in \u001b[0;36m_call\u001b[0;34m(self, *args, **kwds)\u001b[0m\n\u001b[1;32m    945\u001b[0m       \u001b[0;31m# In this case we have created variables on the first call, so we run the\u001b[0m\u001b[0;34m\u001b[0m\u001b[0;34m\u001b[0m\u001b[0;34m\u001b[0m\u001b[0m\n\u001b[1;32m    946\u001b[0m       \u001b[0;31m# defunned version which is guaranteed to never create variables.\u001b[0m\u001b[0;34m\u001b[0m\u001b[0;34m\u001b[0m\u001b[0;34m\u001b[0m\u001b[0m\n\u001b[0;32m--> 947\u001b[0;31m       \u001b[0;32mreturn\u001b[0m \u001b[0mself\u001b[0m\u001b[0;34m.\u001b[0m\u001b[0m_stateless_fn\u001b[0m\u001b[0;34m(\u001b[0m\u001b[0;34m*\u001b[0m\u001b[0margs\u001b[0m\u001b[0;34m,\u001b[0m \u001b[0;34m**\u001b[0m\u001b[0mkwds\u001b[0m\u001b[0;34m)\u001b[0m  \u001b[0;31m# pylint: disable=not-callable\u001b[0m\u001b[0;34m\u001b[0m\u001b[0;34m\u001b[0m\u001b[0m\n\u001b[0m\u001b[1;32m    948\u001b[0m     \u001b[0;32melif\u001b[0m \u001b[0mself\u001b[0m\u001b[0;34m.\u001b[0m\u001b[0m_stateful_fn\u001b[0m \u001b[0;32mis\u001b[0m \u001b[0;32mnot\u001b[0m \u001b[0;32mNone\u001b[0m\u001b[0;34m:\u001b[0m\u001b[0;34m\u001b[0m\u001b[0;34m\u001b[0m\u001b[0m\n\u001b[1;32m    949\u001b[0m       \u001b[0;31m# Release the lock early so that multiple threads can perform the call\u001b[0m\u001b[0;34m\u001b[0m\u001b[0;34m\u001b[0m\u001b[0;34m\u001b[0m\u001b[0m\n",
            "\u001b[0;32m/usr/local/lib/python3.7/dist-packages/tensorflow/python/eager/function.py\u001b[0m in \u001b[0;36m__call__\u001b[0;34m(self, *args, **kwargs)\u001b[0m\n\u001b[1;32m   2452\u001b[0m        filtered_flat_args) = self._maybe_define_function(args, kwargs)\n\u001b[1;32m   2453\u001b[0m     return graph_function._call_flat(\n\u001b[0;32m-> 2454\u001b[0;31m         filtered_flat_args, captured_inputs=graph_function.captured_inputs)  # pylint: disable=protected-access\n\u001b[0m\u001b[1;32m   2455\u001b[0m \u001b[0;34m\u001b[0m\u001b[0m\n\u001b[1;32m   2456\u001b[0m   \u001b[0;34m@\u001b[0m\u001b[0mproperty\u001b[0m\u001b[0;34m\u001b[0m\u001b[0;34m\u001b[0m\u001b[0m\n",
            "\u001b[0;32m/usr/local/lib/python3.7/dist-packages/tensorflow/python/eager/function.py\u001b[0m in \u001b[0;36m_call_flat\u001b[0;34m(self, args, captured_inputs, cancellation_manager)\u001b[0m\n\u001b[1;32m   1859\u001b[0m       \u001b[0;31m# No tape is watching; skip to running the function.\u001b[0m\u001b[0;34m\u001b[0m\u001b[0;34m\u001b[0m\u001b[0;34m\u001b[0m\u001b[0m\n\u001b[1;32m   1860\u001b[0m       return self._build_call_outputs(self._inference_function.call(\n\u001b[0;32m-> 1861\u001b[0;31m           ctx, args, cancellation_manager=cancellation_manager))\n\u001b[0m\u001b[1;32m   1862\u001b[0m     forward_backward = self._select_forward_and_backward_functions(\n\u001b[1;32m   1863\u001b[0m         \u001b[0margs\u001b[0m\u001b[0;34m,\u001b[0m\u001b[0;34m\u001b[0m\u001b[0;34m\u001b[0m\u001b[0m\n",
            "\u001b[0;32m/usr/local/lib/python3.7/dist-packages/tensorflow/python/eager/function.py\u001b[0m in \u001b[0;36mcall\u001b[0;34m(self, ctx, args, cancellation_manager)\u001b[0m\n\u001b[1;32m    500\u001b[0m               \u001b[0minputs\u001b[0m\u001b[0;34m=\u001b[0m\u001b[0margs\u001b[0m\u001b[0;34m,\u001b[0m\u001b[0;34m\u001b[0m\u001b[0;34m\u001b[0m\u001b[0m\n\u001b[1;32m    501\u001b[0m               \u001b[0mattrs\u001b[0m\u001b[0;34m=\u001b[0m\u001b[0mattrs\u001b[0m\u001b[0;34m,\u001b[0m\u001b[0;34m\u001b[0m\u001b[0;34m\u001b[0m\u001b[0m\n\u001b[0;32m--> 502\u001b[0;31m               ctx=ctx)\n\u001b[0m\u001b[1;32m    503\u001b[0m         \u001b[0;32melse\u001b[0m\u001b[0;34m:\u001b[0m\u001b[0;34m\u001b[0m\u001b[0;34m\u001b[0m\u001b[0m\n\u001b[1;32m    504\u001b[0m           outputs = execute.execute_with_cancellation(\n",
            "\u001b[0;32m/usr/local/lib/python3.7/dist-packages/tensorflow/python/eager/execute.py\u001b[0m in \u001b[0;36mquick_execute\u001b[0;34m(op_name, num_outputs, inputs, attrs, ctx, name)\u001b[0m\n\u001b[1;32m     53\u001b[0m     \u001b[0mctx\u001b[0m\u001b[0;34m.\u001b[0m\u001b[0mensure_initialized\u001b[0m\u001b[0;34m(\u001b[0m\u001b[0;34m)\u001b[0m\u001b[0;34m\u001b[0m\u001b[0;34m\u001b[0m\u001b[0m\n\u001b[1;32m     54\u001b[0m     tensors = pywrap_tfe.TFE_Py_Execute(ctx._handle, device_name, op_name,\n\u001b[0;32m---> 55\u001b[0;31m                                         inputs, attrs, num_outputs)\n\u001b[0m\u001b[1;32m     56\u001b[0m   \u001b[0;32mexcept\u001b[0m \u001b[0mcore\u001b[0m\u001b[0;34m.\u001b[0m\u001b[0m_NotOkStatusException\u001b[0m \u001b[0;32mas\u001b[0m \u001b[0me\u001b[0m\u001b[0;34m:\u001b[0m\u001b[0;34m\u001b[0m\u001b[0;34m\u001b[0m\u001b[0m\n\u001b[1;32m     57\u001b[0m     \u001b[0;32mif\u001b[0m \u001b[0mname\u001b[0m \u001b[0;32mis\u001b[0m \u001b[0;32mnot\u001b[0m \u001b[0;32mNone\u001b[0m\u001b[0;34m:\u001b[0m\u001b[0;34m\u001b[0m\u001b[0;34m\u001b[0m\u001b[0m\n",
            "\u001b[0;31mKeyboardInterrupt\u001b[0m: "
          ]
        }
      ]
    },
    {
      "cell_type": "code",
      "source": [],
      "metadata": {
        "id": "vP1Enz_D1Zud"
      },
      "id": "vP1Enz_D1Zud",
      "execution_count": null,
      "outputs": []
    },
    {
      "cell_type": "code",
      "execution_count": null,
      "id": "7473d257",
      "metadata": {
        "id": "7473d257"
      },
      "outputs": [],
      "source": [
        "from bs4 import BeautifulSoup\n",
        "import requests "
      ]
    },
    {
      "cell_type": "code",
      "execution_count": null,
      "id": "86391ec8",
      "metadata": {
        "id": "86391ec8"
      },
      "outputs": [],
      "source": [
        "url = 'https://www.imdb.com/title/tt0468569/reviews/_ajax?ref_=undefined&paginationKey='"
      ]
    },
    {
      "cell_type": "code",
      "execution_count": null,
      "id": "bf29e355",
      "metadata": {
        "id": "bf29e355"
      },
      "outputs": [],
      "source": [
        "result = requests.get(url)"
      ]
    },
    {
      "cell_type": "code",
      "execution_count": null,
      "id": "ae04c417",
      "metadata": {
        "id": "ae04c417",
        "outputId": "97a1a53a-6b2e-4272-b1ea-b19774c8609d"
      },
      "outputs": [
        {
          "data": {
            "text/plain": [
              "<div class=\"lister-item-content\">\n",
              "<a class=\"title\" href=\"/review/rw5478826/\"> The Dark Knight\n",
              "</a> <div class=\"display-name-date\">\n",
              "<span class=\"display-name-link\"><a href=\"/user/ur87850731/\">MR-ODIN</a></span><span class=\"review-date\">12 February 2020</span>\n",
              "</div>\n",
              "<div class=\"content\">\n",
              "<div class=\"text show-more__control\">Confidently directed, dark, brooding, and packed with impressive action sequences and a complex story, The Dark Knight includes a career-defining turn from Heath Ledger as well as other Oscar worthy performances, TDK remains not only the best Batman movie, but comic book movie ever created.</div>\n",
              "<div class=\"actions text-muted\">\n",
              "                    485 out of 525 found this helpful.\n",
              "                        <span>\n",
              "                            Was this review helpful? <a href=\"/registration/signin\"> Sign in</a> to vote.\n",
              "                        </span>\n",
              "<br/>\n",
              "<a href=\"/review/rw5478826/\">Permalink</a>\n",
              "</div>\n",
              "</div>\n",
              "</div>"
            ]
          },
          "execution_count": 35,
          "metadata": {},
          "output_type": "execute_result"
        }
      ],
      "source": [
        "doc = BeautifulSoup(result.text,'html.parser')\n",
        "div_all = doc.find_all('div')\n",
        "div_all[4]"
      ]
    },
    {
      "cell_type": "code",
      "execution_count": 38,
      "id": "5e47aa3f",
      "metadata": {
        "id": "5e47aa3f",
        "outputId": "ded4ca0a-cbc8-4e8d-aa7d-6dfd18c97d84",
        "colab": {
          "base_uri": "https://localhost:8080/"
        }
      },
      "outputs": [
        {
          "output_type": "stream",
          "name": "stdout",
          "text": [
            "Files and directories in ' /content/drive/MyDrive/Deep-Learning-Movie-Reviews/2_reviews_per_movie_raw ' :\n",
            "47\n"
          ]
        }
      ],
      "source": [
        "import os\n",
        " \n",
        "# Get the list of all files and directories\n",
        "# path = \"C:/Users/Neelesh Reddypelli/Documents/3rd Semester/DeepLearning/Projects/2_reviews_per_movie_raw\"\n",
        "path = \"/content/drive/MyDrive/Deep-Learning-Movie-Reviews/2_reviews_per_movie_raw\"\n",
        "dir_list = os.listdir(path)\n",
        " \n",
        "print(\"Files and directories in '\", path, \"' :\")\n",
        " \n",
        "# prints all files\n",
        "for i in range(len(dir_list)):\n",
        "    \n",
        "    \n",
        "    dir_list[i] = dir_list[i].replace('.csv','')\n",
        "    dir_list[i] = dir_list[i][:len(dir_list[i]) - 5]\n",
        "    \n",
        "    \n",
        "print(len(dir_list))\n"
      ]
    },
    {
      "cell_type": "code",
      "execution_count": 51,
      "id": "18783632",
      "metadata": {
        "id": "18783632",
        "colab": {
          "base_uri": "https://localhost:8080/",
          "height": 311
        },
        "outputId": "cebc14a5-eda9-46d7-da84-40419c4cbab2"
      },
      "outputs": [
        {
          "output_type": "error",
          "ename": "FileNotFoundError",
          "evalue": "ignored",
          "traceback": [
            "\u001b[0;31m---------------------------------------------------------------------------\u001b[0m",
            "\u001b[0;31mFileNotFoundError\u001b[0m                         Traceback (most recent call last)",
            "\u001b[0;32m<ipython-input-51-3169b1ec35e9>\u001b[0m in \u001b[0;36m<module>\u001b[0;34m\u001b[0m\n\u001b[0;32m----> 1\u001b[0;31m \u001b[0mdf_1\u001b[0m \u001b[0;34m=\u001b[0m \u001b[0mpd\u001b[0m\u001b[0;34m.\u001b[0m\u001b[0mread_csv\u001b[0m\u001b[0;34m(\u001b[0m\u001b[0;34m'/content/drive/MyDrive/Deep-Learning-Movie-Reviews/10 Cloverfield Lane 2016.csv'\u001b[0m\u001b[0;34m)\u001b[0m\u001b[0;34m\u001b[0m\u001b[0;34m\u001b[0m\u001b[0m\n\u001b[0m",
            "\u001b[0;32m/usr/local/lib/python3.7/dist-packages/pandas/util/_decorators.py\u001b[0m in \u001b[0;36mwrapper\u001b[0;34m(*args, **kwargs)\u001b[0m\n\u001b[1;32m    309\u001b[0m                     \u001b[0mstacklevel\u001b[0m\u001b[0;34m=\u001b[0m\u001b[0mstacklevel\u001b[0m\u001b[0;34m,\u001b[0m\u001b[0;34m\u001b[0m\u001b[0;34m\u001b[0m\u001b[0m\n\u001b[1;32m    310\u001b[0m                 )\n\u001b[0;32m--> 311\u001b[0;31m             \u001b[0;32mreturn\u001b[0m \u001b[0mfunc\u001b[0m\u001b[0;34m(\u001b[0m\u001b[0;34m*\u001b[0m\u001b[0margs\u001b[0m\u001b[0;34m,\u001b[0m \u001b[0;34m**\u001b[0m\u001b[0mkwargs\u001b[0m\u001b[0;34m)\u001b[0m\u001b[0;34m\u001b[0m\u001b[0;34m\u001b[0m\u001b[0m\n\u001b[0m\u001b[1;32m    312\u001b[0m \u001b[0;34m\u001b[0m\u001b[0m\n\u001b[1;32m    313\u001b[0m         \u001b[0;32mreturn\u001b[0m \u001b[0mwrapper\u001b[0m\u001b[0;34m\u001b[0m\u001b[0;34m\u001b[0m\u001b[0m\n",
            "\u001b[0;32m/usr/local/lib/python3.7/dist-packages/pandas/io/parsers/readers.py\u001b[0m in \u001b[0;36mread_csv\u001b[0;34m(filepath_or_buffer, sep, delimiter, header, names, index_col, usecols, squeeze, prefix, mangle_dupe_cols, dtype, engine, converters, true_values, false_values, skipinitialspace, skiprows, skipfooter, nrows, na_values, keep_default_na, na_filter, verbose, skip_blank_lines, parse_dates, infer_datetime_format, keep_date_col, date_parser, dayfirst, cache_dates, iterator, chunksize, compression, thousands, decimal, lineterminator, quotechar, quoting, doublequote, escapechar, comment, encoding, encoding_errors, dialect, error_bad_lines, warn_bad_lines, on_bad_lines, delim_whitespace, low_memory, memory_map, float_precision, storage_options)\u001b[0m\n\u001b[1;32m    584\u001b[0m     \u001b[0mkwds\u001b[0m\u001b[0;34m.\u001b[0m\u001b[0mupdate\u001b[0m\u001b[0;34m(\u001b[0m\u001b[0mkwds_defaults\u001b[0m\u001b[0;34m)\u001b[0m\u001b[0;34m\u001b[0m\u001b[0;34m\u001b[0m\u001b[0m\n\u001b[1;32m    585\u001b[0m \u001b[0;34m\u001b[0m\u001b[0m\n\u001b[0;32m--> 586\u001b[0;31m     \u001b[0;32mreturn\u001b[0m \u001b[0m_read\u001b[0m\u001b[0;34m(\u001b[0m\u001b[0mfilepath_or_buffer\u001b[0m\u001b[0;34m,\u001b[0m \u001b[0mkwds\u001b[0m\u001b[0;34m)\u001b[0m\u001b[0;34m\u001b[0m\u001b[0;34m\u001b[0m\u001b[0m\n\u001b[0m\u001b[1;32m    587\u001b[0m \u001b[0;34m\u001b[0m\u001b[0m\n\u001b[1;32m    588\u001b[0m \u001b[0;34m\u001b[0m\u001b[0m\n",
            "\u001b[0;32m/usr/local/lib/python3.7/dist-packages/pandas/io/parsers/readers.py\u001b[0m in \u001b[0;36m_read\u001b[0;34m(filepath_or_buffer, kwds)\u001b[0m\n\u001b[1;32m    480\u001b[0m \u001b[0;34m\u001b[0m\u001b[0m\n\u001b[1;32m    481\u001b[0m     \u001b[0;31m# Create the parser.\u001b[0m\u001b[0;34m\u001b[0m\u001b[0;34m\u001b[0m\u001b[0;34m\u001b[0m\u001b[0m\n\u001b[0;32m--> 482\u001b[0;31m     \u001b[0mparser\u001b[0m \u001b[0;34m=\u001b[0m \u001b[0mTextFileReader\u001b[0m\u001b[0;34m(\u001b[0m\u001b[0mfilepath_or_buffer\u001b[0m\u001b[0;34m,\u001b[0m \u001b[0;34m**\u001b[0m\u001b[0mkwds\u001b[0m\u001b[0;34m)\u001b[0m\u001b[0;34m\u001b[0m\u001b[0;34m\u001b[0m\u001b[0m\n\u001b[0m\u001b[1;32m    483\u001b[0m \u001b[0;34m\u001b[0m\u001b[0m\n\u001b[1;32m    484\u001b[0m     \u001b[0;32mif\u001b[0m \u001b[0mchunksize\u001b[0m \u001b[0;32mor\u001b[0m \u001b[0miterator\u001b[0m\u001b[0;34m:\u001b[0m\u001b[0;34m\u001b[0m\u001b[0;34m\u001b[0m\u001b[0m\n",
            "\u001b[0;32m/usr/local/lib/python3.7/dist-packages/pandas/io/parsers/readers.py\u001b[0m in \u001b[0;36m__init__\u001b[0;34m(self, f, engine, **kwds)\u001b[0m\n\u001b[1;32m    809\u001b[0m             \u001b[0mself\u001b[0m\u001b[0;34m.\u001b[0m\u001b[0moptions\u001b[0m\u001b[0;34m[\u001b[0m\u001b[0;34m\"has_index_names\"\u001b[0m\u001b[0;34m]\u001b[0m \u001b[0;34m=\u001b[0m \u001b[0mkwds\u001b[0m\u001b[0;34m[\u001b[0m\u001b[0;34m\"has_index_names\"\u001b[0m\u001b[0;34m]\u001b[0m\u001b[0;34m\u001b[0m\u001b[0;34m\u001b[0m\u001b[0m\n\u001b[1;32m    810\u001b[0m \u001b[0;34m\u001b[0m\u001b[0m\n\u001b[0;32m--> 811\u001b[0;31m         \u001b[0mself\u001b[0m\u001b[0;34m.\u001b[0m\u001b[0m_engine\u001b[0m \u001b[0;34m=\u001b[0m \u001b[0mself\u001b[0m\u001b[0;34m.\u001b[0m\u001b[0m_make_engine\u001b[0m\u001b[0;34m(\u001b[0m\u001b[0mself\u001b[0m\u001b[0;34m.\u001b[0m\u001b[0mengine\u001b[0m\u001b[0;34m)\u001b[0m\u001b[0;34m\u001b[0m\u001b[0;34m\u001b[0m\u001b[0m\n\u001b[0m\u001b[1;32m    812\u001b[0m \u001b[0;34m\u001b[0m\u001b[0m\n\u001b[1;32m    813\u001b[0m     \u001b[0;32mdef\u001b[0m \u001b[0mclose\u001b[0m\u001b[0;34m(\u001b[0m\u001b[0mself\u001b[0m\u001b[0;34m)\u001b[0m\u001b[0;34m:\u001b[0m\u001b[0;34m\u001b[0m\u001b[0;34m\u001b[0m\u001b[0m\n",
            "\u001b[0;32m/usr/local/lib/python3.7/dist-packages/pandas/io/parsers/readers.py\u001b[0m in \u001b[0;36m_make_engine\u001b[0;34m(self, engine)\u001b[0m\n\u001b[1;32m   1038\u001b[0m             )\n\u001b[1;32m   1039\u001b[0m         \u001b[0;31m# error: Too many arguments for \"ParserBase\"\u001b[0m\u001b[0;34m\u001b[0m\u001b[0;34m\u001b[0m\u001b[0;34m\u001b[0m\u001b[0m\n\u001b[0;32m-> 1040\u001b[0;31m         \u001b[0;32mreturn\u001b[0m \u001b[0mmapping\u001b[0m\u001b[0;34m[\u001b[0m\u001b[0mengine\u001b[0m\u001b[0;34m]\u001b[0m\u001b[0;34m(\u001b[0m\u001b[0mself\u001b[0m\u001b[0;34m.\u001b[0m\u001b[0mf\u001b[0m\u001b[0;34m,\u001b[0m \u001b[0;34m**\u001b[0m\u001b[0mself\u001b[0m\u001b[0;34m.\u001b[0m\u001b[0moptions\u001b[0m\u001b[0;34m)\u001b[0m  \u001b[0;31m# type: ignore[call-arg]\u001b[0m\u001b[0;34m\u001b[0m\u001b[0;34m\u001b[0m\u001b[0m\n\u001b[0m\u001b[1;32m   1041\u001b[0m \u001b[0;34m\u001b[0m\u001b[0m\n\u001b[1;32m   1042\u001b[0m     \u001b[0;32mdef\u001b[0m \u001b[0m_failover_to_python\u001b[0m\u001b[0;34m(\u001b[0m\u001b[0mself\u001b[0m\u001b[0;34m)\u001b[0m\u001b[0;34m:\u001b[0m\u001b[0;34m\u001b[0m\u001b[0;34m\u001b[0m\u001b[0m\n",
            "\u001b[0;32m/usr/local/lib/python3.7/dist-packages/pandas/io/parsers/c_parser_wrapper.py\u001b[0m in \u001b[0;36m__init__\u001b[0;34m(self, src, **kwds)\u001b[0m\n\u001b[1;32m     49\u001b[0m \u001b[0;34m\u001b[0m\u001b[0m\n\u001b[1;32m     50\u001b[0m         \u001b[0;31m# open handles\u001b[0m\u001b[0;34m\u001b[0m\u001b[0;34m\u001b[0m\u001b[0;34m\u001b[0m\u001b[0m\n\u001b[0;32m---> 51\u001b[0;31m         \u001b[0mself\u001b[0m\u001b[0;34m.\u001b[0m\u001b[0m_open_handles\u001b[0m\u001b[0;34m(\u001b[0m\u001b[0msrc\u001b[0m\u001b[0;34m,\u001b[0m \u001b[0mkwds\u001b[0m\u001b[0;34m)\u001b[0m\u001b[0;34m\u001b[0m\u001b[0;34m\u001b[0m\u001b[0m\n\u001b[0m\u001b[1;32m     52\u001b[0m         \u001b[0;32massert\u001b[0m \u001b[0mself\u001b[0m\u001b[0;34m.\u001b[0m\u001b[0mhandles\u001b[0m \u001b[0;32mis\u001b[0m \u001b[0;32mnot\u001b[0m \u001b[0;32mNone\u001b[0m\u001b[0;34m\u001b[0m\u001b[0;34m\u001b[0m\u001b[0m\n\u001b[1;32m     53\u001b[0m \u001b[0;34m\u001b[0m\u001b[0m\n",
            "\u001b[0;32m/usr/local/lib/python3.7/dist-packages/pandas/io/parsers/base_parser.py\u001b[0m in \u001b[0;36m_open_handles\u001b[0;34m(self, src, kwds)\u001b[0m\n\u001b[1;32m    227\u001b[0m             \u001b[0mmemory_map\u001b[0m\u001b[0;34m=\u001b[0m\u001b[0mkwds\u001b[0m\u001b[0;34m.\u001b[0m\u001b[0mget\u001b[0m\u001b[0;34m(\u001b[0m\u001b[0;34m\"memory_map\"\u001b[0m\u001b[0;34m,\u001b[0m \u001b[0;32mFalse\u001b[0m\u001b[0;34m)\u001b[0m\u001b[0;34m,\u001b[0m\u001b[0;34m\u001b[0m\u001b[0;34m\u001b[0m\u001b[0m\n\u001b[1;32m    228\u001b[0m             \u001b[0mstorage_options\u001b[0m\u001b[0;34m=\u001b[0m\u001b[0mkwds\u001b[0m\u001b[0;34m.\u001b[0m\u001b[0mget\u001b[0m\u001b[0;34m(\u001b[0m\u001b[0;34m\"storage_options\"\u001b[0m\u001b[0;34m,\u001b[0m \u001b[0;32mNone\u001b[0m\u001b[0;34m)\u001b[0m\u001b[0;34m,\u001b[0m\u001b[0;34m\u001b[0m\u001b[0;34m\u001b[0m\u001b[0m\n\u001b[0;32m--> 229\u001b[0;31m             \u001b[0merrors\u001b[0m\u001b[0;34m=\u001b[0m\u001b[0mkwds\u001b[0m\u001b[0;34m.\u001b[0m\u001b[0mget\u001b[0m\u001b[0;34m(\u001b[0m\u001b[0;34m\"encoding_errors\"\u001b[0m\u001b[0;34m,\u001b[0m \u001b[0;34m\"strict\"\u001b[0m\u001b[0;34m)\u001b[0m\u001b[0;34m,\u001b[0m\u001b[0;34m\u001b[0m\u001b[0;34m\u001b[0m\u001b[0m\n\u001b[0m\u001b[1;32m    230\u001b[0m         )\n\u001b[1;32m    231\u001b[0m \u001b[0;34m\u001b[0m\u001b[0m\n",
            "\u001b[0;32m/usr/local/lib/python3.7/dist-packages/pandas/io/common.py\u001b[0m in \u001b[0;36mget_handle\u001b[0;34m(path_or_buf, mode, encoding, compression, memory_map, is_text, errors, storage_options)\u001b[0m\n\u001b[1;32m    705\u001b[0m                 \u001b[0mencoding\u001b[0m\u001b[0;34m=\u001b[0m\u001b[0mioargs\u001b[0m\u001b[0;34m.\u001b[0m\u001b[0mencoding\u001b[0m\u001b[0;34m,\u001b[0m\u001b[0;34m\u001b[0m\u001b[0;34m\u001b[0m\u001b[0m\n\u001b[1;32m    706\u001b[0m                 \u001b[0merrors\u001b[0m\u001b[0;34m=\u001b[0m\u001b[0merrors\u001b[0m\u001b[0;34m,\u001b[0m\u001b[0;34m\u001b[0m\u001b[0;34m\u001b[0m\u001b[0m\n\u001b[0;32m--> 707\u001b[0;31m                 \u001b[0mnewline\u001b[0m\u001b[0;34m=\u001b[0m\u001b[0;34m\"\"\u001b[0m\u001b[0;34m,\u001b[0m\u001b[0;34m\u001b[0m\u001b[0;34m\u001b[0m\u001b[0m\n\u001b[0m\u001b[1;32m    708\u001b[0m             )\n\u001b[1;32m    709\u001b[0m         \u001b[0;32melse\u001b[0m\u001b[0;34m:\u001b[0m\u001b[0;34m\u001b[0m\u001b[0;34m\u001b[0m\u001b[0m\n",
            "\u001b[0;31mFileNotFoundError\u001b[0m: [Errno 2] No such file or directory: '/content/drive/MyDrive/Deep-Learning-Movie-Reviews/10 Cloverfield Lane 2016.csv'"
          ]
        }
      ],
      "source": [
        "df_1 = pd.read_csv('/content/drive/MyDrive/Deep-Learning-Movie-Reviews/10 Cloverfield Lane 2016.csv')"
      ]
    },
    {
      "cell_type": "code",
      "execution_count": null,
      "id": "f585a6bc",
      "metadata": {
        "id": "f585a6bc"
      },
      "outputs": [],
      "source": [
        "i=1\n",
        "df{i} = 'df'+str(i)+''"
      ]
    },
    {
      "cell_type": "code",
      "execution_count": null,
      "id": "edd75886",
      "metadata": {
        "id": "edd75886",
        "outputId": "4f594642-0648-48bd-ff0d-e6d17b38f242"
      },
      "outputs": [
        {
          "data": {
            "text/html": [
              "<div>\n",
              "<style scoped>\n",
              "    .dataframe tbody tr th:only-of-type {\n",
              "        vertical-align: middle;\n",
              "    }\n",
              "\n",
              "    .dataframe tbody tr th {\n",
              "        vertical-align: top;\n",
              "    }\n",
              "\n",
              "    .dataframe thead th {\n",
              "        text-align: right;\n",
              "    }\n",
              "</style>\n",
              "<table border=\"1\" class=\"dataframe\">\n",
              "  <thead>\n",
              "    <tr style=\"text-align: right;\">\n",
              "      <th></th>\n",
              "      <th>username</th>\n",
              "      <th>rating</th>\n",
              "      <th>helpful</th>\n",
              "      <th>total</th>\n",
              "      <th>date</th>\n",
              "      <th>title</th>\n",
              "      <th>review</th>\n",
              "    </tr>\n",
              "  </thead>\n",
              "  <tbody>\n",
              "    <tr>\n",
              "      <th>0</th>\n",
              "      <td>Imme-van-Gorp</td>\n",
              "      <td>7</td>\n",
              "      <td>102</td>\n",
              "      <td>123</td>\n",
              "      <td>30 January 2019</td>\n",
              "      <td>Unfortunately the ending ruined an otherwise ...</td>\n",
              "      <td>This movie is full of suspense. It makes you g...</td>\n",
              "    </tr>\n",
              "    <tr>\n",
              "      <th>1</th>\n",
              "      <td>sonofocelot-1</td>\n",
              "      <td>5</td>\n",
              "      <td>385</td>\n",
              "      <td>500</td>\n",
              "      <td>10 May 2016</td>\n",
              "      <td>...oh dear Abrams. Again.\\n</td>\n",
              "      <td>I'll leave this review fairly concise. &lt;br/&gt;&lt;b...</td>\n",
              "    </tr>\n",
              "    <tr>\n",
              "      <th>2</th>\n",
              "      <td>mhodaee</td>\n",
              "      <td>5</td>\n",
              "      <td>110</td>\n",
              "      <td>143</td>\n",
              "      <td>4 August 2017</td>\n",
              "      <td>Fantastic, gripping, thoroughly enjoyable, un...</td>\n",
              "      <td>I give the 5/10 out of the credit I owe to the...</td>\n",
              "    </tr>\n",
              "    <tr>\n",
              "      <th>3</th>\n",
              "      <td>fil-nik09</td>\n",
              "      <td>5</td>\n",
              "      <td>73</td>\n",
              "      <td>100</td>\n",
              "      <td>5 October 2016</td>\n",
              "      <td>Hmmm...\\n</td>\n",
              "      <td>First of all, I must say that I was expecting ...</td>\n",
              "    </tr>\n",
              "    <tr>\n",
              "      <th>4</th>\n",
              "      <td>DVR_Brale</td>\n",
              "      <td>7</td>\n",
              "      <td>42</td>\n",
              "      <td>56</td>\n",
              "      <td>27 July 2016</td>\n",
              "      <td>Slow building &amp; plot alternating claustrophob...</td>\n",
              "      <td>I've always loved movies with strong atmospher...</td>\n",
              "    </tr>\n",
              "    <tr>\n",
              "      <th>...</th>\n",
              "      <td>...</td>\n",
              "      <td>...</td>\n",
              "      <td>...</td>\n",
              "      <td>...</td>\n",
              "      <td>...</td>\n",
              "      <td>...</td>\n",
              "      <td>...</td>\n",
              "    </tr>\n",
              "    <tr>\n",
              "      <th>747</th>\n",
              "      <td>maurice_yacowar</td>\n",
              "      <td>8</td>\n",
              "      <td>0</td>\n",
              "      <td>2</td>\n",
              "      <td>13 March 2016</td>\n",
              "      <td>Resourceful woman survives villain and monster\\n</td>\n",
              "      <td>Just because you're paranoid doesn't mean the ...</td>\n",
              "    </tr>\n",
              "    <tr>\n",
              "      <th>748</th>\n",
              "      <td>stevendbeard</td>\n",
              "      <td>7</td>\n",
              "      <td>0</td>\n",
              "      <td>3</td>\n",
              "      <td>11 March 2016</td>\n",
              "      <td>Related, But Not Really A Sequel\\n</td>\n",
              "      <td>I saw \"10 Cloverfield Lane\", starring John Goo...</td>\n",
              "    </tr>\n",
              "    <tr>\n",
              "      <th>749</th>\n",
              "      <td>jmoneyjohal</td>\n",
              "      <td>7</td>\n",
              "      <td>0</td>\n",
              "      <td>3</td>\n",
              "      <td>11 March 2016</td>\n",
              "      <td>A good psychological thriller about the unkno...</td>\n",
              "      <td>10 Cloverfield Lane,is what I classify as a fi...</td>\n",
              "    </tr>\n",
              "    <tr>\n",
              "      <th>750</th>\n",
              "      <td>MattBirk</td>\n",
              "      <td>8</td>\n",
              "      <td>0</td>\n",
              "      <td>2</td>\n",
              "      <td>11 March 2016</td>\n",
              "      <td>An amazing mystery thriller, undermined by it...</td>\n",
              "      <td>I'll get this out of the way early, I firmly b...</td>\n",
              "    </tr>\n",
              "    <tr>\n",
              "      <th>751</th>\n",
              "      <td>waltermwilliams</td>\n",
              "      <td>7</td>\n",
              "      <td>0</td>\n",
              "      <td>3</td>\n",
              "      <td>11 March 2016</td>\n",
              "      <td>Not even Bovines are safe in Dan Trachtenberg...</td>\n",
              "      <td>Women imagine spinning out of control in a car...</td>\n",
              "    </tr>\n",
              "  </tbody>\n",
              "</table>\n",
              "<p>752 rows × 7 columns</p>\n",
              "</div>"
            ],
            "text/plain": [
              "            username rating  helpful  total             date  \\\n",
              "0      Imme-van-Gorp      7      102    123  30 January 2019   \n",
              "1      sonofocelot-1      5      385    500      10 May 2016   \n",
              "2            mhodaee      5      110    143    4 August 2017   \n",
              "3          fil-nik09      5       73    100   5 October 2016   \n",
              "4          DVR_Brale      7       42     56     27 July 2016   \n",
              "..               ...    ...      ...    ...              ...   \n",
              "747  maurice_yacowar      8        0      2    13 March 2016   \n",
              "748     stevendbeard      7        0      3    11 March 2016   \n",
              "749      jmoneyjohal      7        0      3    11 March 2016   \n",
              "750         MattBirk      8        0      2    11 March 2016   \n",
              "751  waltermwilliams      7        0      3    11 March 2016   \n",
              "\n",
              "                                                 title  \\\n",
              "0     Unfortunately the ending ruined an otherwise ...   \n",
              "1                          ...oh dear Abrams. Again.\\n   \n",
              "2     Fantastic, gripping, thoroughly enjoyable, un...   \n",
              "3                                            Hmmm...\\n   \n",
              "4     Slow building & plot alternating claustrophob...   \n",
              "..                                                 ...   \n",
              "747   Resourceful woman survives villain and monster\\n   \n",
              "748                 Related, But Not Really A Sequel\\n   \n",
              "749   A good psychological thriller about the unkno...   \n",
              "750   An amazing mystery thriller, undermined by it...   \n",
              "751   Not even Bovines are safe in Dan Trachtenberg...   \n",
              "\n",
              "                                                review  \n",
              "0    This movie is full of suspense. It makes you g...  \n",
              "1    I'll leave this review fairly concise. <br/><b...  \n",
              "2    I give the 5/10 out of the credit I owe to the...  \n",
              "3    First of all, I must say that I was expecting ...  \n",
              "4    I've always loved movies with strong atmospher...  \n",
              "..                                                 ...  \n",
              "747  Just because you're paranoid doesn't mean the ...  \n",
              "748  I saw \"10 Cloverfield Lane\", starring John Goo...  \n",
              "749  10 Cloverfield Lane,is what I classify as a fi...  \n",
              "750  I'll get this out of the way early, I firmly b...  \n",
              "751  Women imagine spinning out of control in a car...  \n",
              "\n",
              "[752 rows x 7 columns]"
            ]
          },
          "execution_count": 100,
          "metadata": {},
          "output_type": "execute_result"
        }
      ],
      "source": [
        "df_1"
      ]
    },
    {
      "cell_type": "code",
      "execution_count": null,
      "id": "ec7aab37",
      "metadata": {
        "id": "ec7aab37",
        "outputId": "37649d2d-c290-4a17-94fd-e8f3e6a154d9"
      },
      "outputs": [
        {
          "data": {
            "text/html": [
              "<div>\n",
              "<style scoped>\n",
              "    .dataframe tbody tr th:only-of-type {\n",
              "        vertical-align: middle;\n",
              "    }\n",
              "\n",
              "    .dataframe tbody tr th {\n",
              "        vertical-align: top;\n",
              "    }\n",
              "\n",
              "    .dataframe thead th {\n",
              "        text-align: right;\n",
              "    }\n",
              "</style>\n",
              "<table border=\"1\" class=\"dataframe\">\n",
              "  <thead>\n",
              "    <tr style=\"text-align: right;\">\n",
              "      <th></th>\n",
              "      <th>review</th>\n",
              "      <th>sentiment</th>\n",
              "    </tr>\n",
              "  </thead>\n",
              "  <tbody>\n",
              "    <tr>\n",
              "      <th>0</th>\n",
              "      <td>One of the other reviewers has mentioned that ...</td>\n",
              "      <td>positive</td>\n",
              "    </tr>\n",
              "    <tr>\n",
              "      <th>1</th>\n",
              "      <td>A wonderful little production. &lt;br /&gt;&lt;br /&gt;The...</td>\n",
              "      <td>positive</td>\n",
              "    </tr>\n",
              "    <tr>\n",
              "      <th>2</th>\n",
              "      <td>I thought this was a wonderful way to spend ti...</td>\n",
              "      <td>positive</td>\n",
              "    </tr>\n",
              "    <tr>\n",
              "      <th>3</th>\n",
              "      <td>Basically there's a family where a little boy ...</td>\n",
              "      <td>negative</td>\n",
              "    </tr>\n",
              "    <tr>\n",
              "      <th>4</th>\n",
              "      <td>Petter Mattei's \"Love in the Time of Money\" is...</td>\n",
              "      <td>positive</td>\n",
              "    </tr>\n",
              "    <tr>\n",
              "      <th>...</th>\n",
              "      <td>...</td>\n",
              "      <td>...</td>\n",
              "    </tr>\n",
              "    <tr>\n",
              "      <th>49995</th>\n",
              "      <td>I thought this movie did a down right good job...</td>\n",
              "      <td>positive</td>\n",
              "    </tr>\n",
              "    <tr>\n",
              "      <th>49996</th>\n",
              "      <td>Bad plot, bad dialogue, bad acting, idiotic di...</td>\n",
              "      <td>negative</td>\n",
              "    </tr>\n",
              "    <tr>\n",
              "      <th>49997</th>\n",
              "      <td>I am a Catholic taught in parochial elementary...</td>\n",
              "      <td>negative</td>\n",
              "    </tr>\n",
              "    <tr>\n",
              "      <th>49998</th>\n",
              "      <td>I'm going to have to disagree with the previou...</td>\n",
              "      <td>negative</td>\n",
              "    </tr>\n",
              "    <tr>\n",
              "      <th>49999</th>\n",
              "      <td>No one expects the Star Trek movies to be high...</td>\n",
              "      <td>negative</td>\n",
              "    </tr>\n",
              "  </tbody>\n",
              "</table>\n",
              "<p>50000 rows × 2 columns</p>\n",
              "</div>"
            ],
            "text/plain": [
              "                                                  review sentiment\n",
              "0      One of the other reviewers has mentioned that ...  positive\n",
              "1      A wonderful little production. <br /><br />The...  positive\n",
              "2      I thought this was a wonderful way to spend ti...  positive\n",
              "3      Basically there's a family where a little boy ...  negative\n",
              "4      Petter Mattei's \"Love in the Time of Money\" is...  positive\n",
              "...                                                  ...       ...\n",
              "49995  I thought this movie did a down right good job...  positive\n",
              "49996  Bad plot, bad dialogue, bad acting, idiotic di...  negative\n",
              "49997  I am a Catholic taught in parochial elementary...  negative\n",
              "49998  I'm going to have to disagree with the previou...  negative\n",
              "49999  No one expects the Star Trek movies to be high...  negative\n",
              "\n",
              "[50000 rows x 2 columns]"
            ]
          },
          "execution_count": 101,
          "metadata": {},
          "output_type": "execute_result"
        }
      ],
      "source": [
        "df"
      ]
    },
    {
      "cell_type": "code",
      "execution_count": null,
      "id": "199b6a63",
      "metadata": {
        "id": "199b6a63"
      },
      "outputs": [],
      "source": [
        "action = pd.read_csv('movies_reviews\\Action.csv') "
      ]
    },
    {
      "cell_type": "code",
      "execution_count": null,
      "id": "30f68aab",
      "metadata": {
        "id": "30f68aab",
        "outputId": "c34abaa2-4289-4fee-e2f5-3789bd1c18a5"
      },
      "outputs": [
        {
          "data": {
            "text/html": [
              "<div>\n",
              "<style scoped>\n",
              "    .dataframe tbody tr th:only-of-type {\n",
              "        vertical-align: middle;\n",
              "    }\n",
              "\n",
              "    .dataframe tbody tr th {\n",
              "        vertical-align: top;\n",
              "    }\n",
              "\n",
              "    .dataframe thead th {\n",
              "        text-align: right;\n",
              "    }\n",
              "</style>\n",
              "<table border=\"1\" class=\"dataframe\">\n",
              "  <thead>\n",
              "    <tr style=\"text-align: right;\">\n",
              "      <th></th>\n",
              "      <th>name</th>\n",
              "      <th>year</th>\n",
              "      <th>movie_rated</th>\n",
              "      <th>run_length</th>\n",
              "      <th>genres</th>\n",
              "      <th>release_date</th>\n",
              "      <th>rating</th>\n",
              "      <th>num_raters</th>\n",
              "      <th>num_reviews</th>\n",
              "      <th>review_url</th>\n",
              "    </tr>\n",
              "  </thead>\n",
              "  <tbody>\n",
              "    <tr>\n",
              "      <th>0</th>\n",
              "      <td>The Dark Knight</td>\n",
              "      <td>2008</td>\n",
              "      <td>PG-13</td>\n",
              "      <td>2h 32min</td>\n",
              "      <td>Action; Crime; Drama;</td>\n",
              "      <td>18 July 2008 (USA)</td>\n",
              "      <td>9.0</td>\n",
              "      <td>2224522</td>\n",
              "      <td>6836</td>\n",
              "      <td>https://www.imdb.com/title/tt0468569/reviews/_...</td>\n",
              "    </tr>\n",
              "    <tr>\n",
              "      <th>1</th>\n",
              "      <td>Inception</td>\n",
              "      <td>2010</td>\n",
              "      <td>PG-13</td>\n",
              "      <td>2h 28min</td>\n",
              "      <td>Action; Adventure; Sci-Fi;</td>\n",
              "      <td>16 July 2010 (USA)</td>\n",
              "      <td>8.8</td>\n",
              "      <td>1981675</td>\n",
              "      <td>3820</td>\n",
              "      <td>https://www.imdb.com/title/tt1375666/reviews/_...</td>\n",
              "    </tr>\n",
              "    <tr>\n",
              "      <th>2</th>\n",
              "      <td>The Matrix</td>\n",
              "      <td>1999</td>\n",
              "      <td>R</td>\n",
              "      <td>2h 16min</td>\n",
              "      <td>Action; Sci-Fi;</td>\n",
              "      <td>31 March 1999 (USA)</td>\n",
              "      <td>8.7</td>\n",
              "      <td>1619761</td>\n",
              "      <td>4281</td>\n",
              "      <td>https://www.imdb.com/title/tt0133093/reviews/_...</td>\n",
              "    </tr>\n",
              "    <tr>\n",
              "      <th>3</th>\n",
              "      <td>The Lord of the Rings: The Fellowship of the Ring</td>\n",
              "      <td>2001</td>\n",
              "      <td>PG-13</td>\n",
              "      <td>2h 58min</td>\n",
              "      <td>Action; Adventure; Drama;</td>\n",
              "      <td>19 December 2001 (USA)</td>\n",
              "      <td>8.8</td>\n",
              "      <td>1609165</td>\n",
              "      <td>5365</td>\n",
              "      <td>https://www.imdb.com/title/tt0120737/reviews/_...</td>\n",
              "    </tr>\n",
              "    <tr>\n",
              "      <th>4</th>\n",
              "      <td>The Dark Knight Rises</td>\n",
              "      <td>2012</td>\n",
              "      <td>PG-13</td>\n",
              "      <td>2h 44min</td>\n",
              "      <td>Action; Adventure;</td>\n",
              "      <td>20 July 2012 (USA)</td>\n",
              "      <td>8.4</td>\n",
              "      <td>1470329</td>\n",
              "      <td>2979</td>\n",
              "      <td>https://www.imdb.com/title/tt1345836/reviews/_...</td>\n",
              "    </tr>\n",
              "    <tr>\n",
              "      <th>...</th>\n",
              "      <td>...</td>\n",
              "      <td>...</td>\n",
              "      <td>...</td>\n",
              "      <td>...</td>\n",
              "      <td>...</td>\n",
              "      <td>...</td>\n",
              "      <td>...</td>\n",
              "      <td>...</td>\n",
              "      <td>...</td>\n",
              "      <td>...</td>\n",
              "    </tr>\n",
              "    <tr>\n",
              "      <th>95</th>\n",
              "      <td>Harry Potter and the Order of the Phoenix</td>\n",
              "      <td>2007</td>\n",
              "      <td>PG-13</td>\n",
              "      <td>2h 18min</td>\n",
              "      <td>Action; Adventure;</td>\n",
              "      <td>11 July 2007 (USA)</td>\n",
              "      <td>7.5</td>\n",
              "      <td>489759</td>\n",
              "      <td>1189</td>\n",
              "      <td>https://www.imdb.com/title/tt0373889/reviews/_...</td>\n",
              "    </tr>\n",
              "    <tr>\n",
              "      <th>96</th>\n",
              "      <td>Spider-Man: Homecoming</td>\n",
              "      <td>2017</td>\n",
              "      <td>PG-13</td>\n",
              "      <td>2h 13min</td>\n",
              "      <td>Action; Adventure; Sci-Fi;</td>\n",
              "      <td>7 July 2017 (USA)</td>\n",
              "      <td>7.4</td>\n",
              "      <td>488794</td>\n",
              "      <td>1356</td>\n",
              "      <td>https://www.imdb.com/title/tt2250912/reviews/_...</td>\n",
              "    </tr>\n",
              "    <tr>\n",
              "      <th>97</th>\n",
              "      <td>Rise of the Planet of the Apes</td>\n",
              "      <td>2011</td>\n",
              "      <td>PG-13</td>\n",
              "      <td>1h 45min</td>\n",
              "      <td>Action; Drama; Sci-Fi;</td>\n",
              "      <td>5 August 2011 (USA)</td>\n",
              "      <td>7.6</td>\n",
              "      <td>488748</td>\n",
              "      <td>706</td>\n",
              "      <td>https://www.imdb.com/title/tt1318514/reviews/_...</td>\n",
              "    </tr>\n",
              "    <tr>\n",
              "      <th>98</th>\n",
              "      <td>I, Robot</td>\n",
              "      <td>2004</td>\n",
              "      <td>PG-13</td>\n",
              "      <td>1h 55min</td>\n",
              "      <td>Action; Drama; Sci-Fi;</td>\n",
              "      <td>16 July 2004 (USA)</td>\n",
              "      <td>7.1</td>\n",
              "      <td>488324</td>\n",
              "      <td>839</td>\n",
              "      <td>https://www.imdb.com/title/tt0343818/reviews/_...</td>\n",
              "    </tr>\n",
              "    <tr>\n",
              "      <th>99</th>\n",
              "      <td>Watchmen</td>\n",
              "      <td>2009</td>\n",
              "      <td>R</td>\n",
              "      <td>2h 42min</td>\n",
              "      <td>Action; Drama; Mystery;</td>\n",
              "      <td>6 March 2009 (USA)</td>\n",
              "      <td>7.6</td>\n",
              "      <td>487717</td>\n",
              "      <td>1398</td>\n",
              "      <td>https://www.imdb.com/title/tt0409459/reviews/_...</td>\n",
              "    </tr>\n",
              "  </tbody>\n",
              "</table>\n",
              "<p>100 rows × 10 columns</p>\n",
              "</div>"
            ],
            "text/plain": [
              "                                                 name  year movie_rated  \\\n",
              "0                                     The Dark Knight  2008       PG-13   \n",
              "1                                           Inception  2010       PG-13   \n",
              "2                                          The Matrix  1999           R   \n",
              "3   The Lord of the Rings: The Fellowship of the Ring  2001       PG-13   \n",
              "4                               The Dark Knight Rises  2012       PG-13   \n",
              "..                                                ...   ...         ...   \n",
              "95          Harry Potter and the Order of the Phoenix  2007       PG-13   \n",
              "96                             Spider-Man: Homecoming  2017       PG-13   \n",
              "97                     Rise of the Planet of the Apes  2011       PG-13   \n",
              "98                                           I, Robot  2004       PG-13   \n",
              "99                                           Watchmen  2009           R   \n",
              "\n",
              "   run_length                       genres            release_date  rating  \\\n",
              "0    2h 32min       Action; Crime; Drama;       18 July 2008 (USA)     9.0   \n",
              "1    2h 28min  Action; Adventure; Sci-Fi;       16 July 2010 (USA)     8.8   \n",
              "2    2h 16min             Action; Sci-Fi;      31 March 1999 (USA)     8.7   \n",
              "3    2h 58min   Action; Adventure; Drama;   19 December 2001 (USA)     8.8   \n",
              "4    2h 44min          Action; Adventure;       20 July 2012 (USA)     8.4   \n",
              "..        ...                          ...                     ...     ...   \n",
              "95   2h 18min          Action; Adventure;       11 July 2007 (USA)     7.5   \n",
              "96   2h 13min  Action; Adventure; Sci-Fi;        7 July 2017 (USA)     7.4   \n",
              "97   1h 45min      Action; Drama; Sci-Fi;      5 August 2011 (USA)     7.6   \n",
              "98   1h 55min      Action; Drama; Sci-Fi;       16 July 2004 (USA)     7.1   \n",
              "99   2h 42min     Action; Drama; Mystery;       6 March 2009 (USA)     7.6   \n",
              "\n",
              "    num_raters  num_reviews                                         review_url  \n",
              "0      2224522         6836  https://www.imdb.com/title/tt0468569/reviews/_...  \n",
              "1      1981675         3820  https://www.imdb.com/title/tt1375666/reviews/_...  \n",
              "2      1619761         4281  https://www.imdb.com/title/tt0133093/reviews/_...  \n",
              "3      1609165         5365  https://www.imdb.com/title/tt0120737/reviews/_...  \n",
              "4      1470329         2979  https://www.imdb.com/title/tt1345836/reviews/_...  \n",
              "..         ...          ...                                                ...  \n",
              "95      489759         1189  https://www.imdb.com/title/tt0373889/reviews/_...  \n",
              "96      488794         1356  https://www.imdb.com/title/tt2250912/reviews/_...  \n",
              "97      488748          706  https://www.imdb.com/title/tt1318514/reviews/_...  \n",
              "98      488324          839  https://www.imdb.com/title/tt0343818/reviews/_...  \n",
              "99      487717         1398  https://www.imdb.com/title/tt0409459/reviews/_...  \n",
              "\n",
              "[100 rows x 10 columns]"
            ]
          },
          "execution_count": 104,
          "metadata": {},
          "output_type": "execute_result"
        }
      ],
      "source": [
        "action"
      ]
    },
    {
      "cell_type": "code",
      "execution_count": null,
      "id": "4eee9204",
      "metadata": {
        "id": "4eee9204"
      },
      "outputs": [],
      "source": [
        "action = list(action['name']) \n",
        "for i in range(len(action)):\n",
        "    action[i] = action[i].replace(':','_')"
      ]
    },
    {
      "cell_type": "code",
      "execution_count": null,
      "id": "66b4757a",
      "metadata": {
        "id": "66b4757a",
        "outputId": "c55712a9-25ba-4688-87e9-0a2103753d26"
      },
      "outputs": [
        {
          "data": {
            "text/plain": [
              "100"
            ]
          },
          "execution_count": 74,
          "metadata": {},
          "output_type": "execute_result"
        }
      ],
      "source": [
        "len(action)"
      ]
    },
    {
      "cell_type": "code",
      "execution_count": null,
      "id": "89fdf19d",
      "metadata": {
        "id": "89fdf19d",
        "outputId": "25f4dabe-52cd-4aa8-aaa6-02e13ccaffd8"
      },
      "outputs": [
        {
          "data": {
            "text/plain": [
              "['The Dark Knight',\n",
              " 'Inception',\n",
              " 'The Matrix',\n",
              " 'The Lord of the Rings_ The Fellowship of the Ring',\n",
              " 'The Dark Knight Rises',\n",
              " 'Gladiator',\n",
              " 'Batman Begins',\n",
              " 'The Avengers',\n",
              " 'Star Wars_ Episode IV - A New Hope',\n",
              " 'Star Wars_ Episode V - The Empire Strikes Back',\n",
              " 'Avatar',\n",
              " 'Guardians of the Galaxy',\n",
              " 'V for Vendetta',\n",
              " 'Léon_ The Professional',\n",
              " 'Pirates of the Caribbean_ The Curse of the Black Pearl',\n",
              " 'Kill Bill_ Vol. 1',\n",
              " 'Terminator 2_ Judgment Day',\n",
              " 'Star Wars_ Episode VI - Return of the Jedi',\n",
              " 'Iron Man',\n",
              " 'Deadpool',\n",
              " 'Raiders of the Lost Ark',\n",
              " 'Mad Max_ Fury Road',\n",
              " 'Star Wars_ Episode VII - The Force Awakens',\n",
              " 'Jurassic Park',\n",
              " 'The Hunger Games',\n",
              " 'Avengers_ Infinity War',\n",
              " 'The Terminator',\n",
              " 'Die Hard',\n",
              " 'Avengers_ Endgame',\n",
              " 'Iron Man 3',\n",
              " 'Thor',\n",
              " '300',\n",
              " 'Captain America_ The First Avenger',\n",
              " 'Avengers_ Age of Ultron',\n",
              " 'Captain America_ The Winter Soldier',\n",
              " 'Star Wars_ Episode I - The Phantom Menace',\n",
              " 'Iron Man 2',\n",
              " 'Star Wars_ Episode III - Revenge of the Sith',\n",
              " 'The Revenant',\n",
              " 'Man of Steel',\n",
              " 'Blade Runner',\n",
              " 'Indiana Jones and the Last Crusade',\n",
              " 'Spider-Man',\n",
              " 'I Am Legend',\n",
              " 'Kill Bill_ Vol. 2',\n",
              " 'X-Men_ Days of Future Past',\n",
              " 'How to Train Your Dragon',\n",
              " \"Pirates of the Caribbean_ Dead Man's Chest\",\n",
              " 'The Incredibles',\n",
              " 'Captain America_ Civil War',\n",
              " 'Aliens',\n",
              " 'X-Men_ First Class',\n",
              " 'District 9',\n",
              " 'Star Wars_ Episode II - Attack of the Clones',\n",
              " 'Logan',\n",
              " 'Skyfall',\n",
              " 'Batman v Superman_ Dawn of Justice',\n",
              " 'The Hunger Games_ Catching Fire',\n",
              " 'The Bourne Ultimatum',\n",
              " 'Black Panther',\n",
              " 'Transformers',\n",
              " 'World War Z',\n",
              " \"Pirates of the Caribbean_ At World's End\",\n",
              " 'Suicide Squad',\n",
              " 'Edge of Tomorrow',\n",
              " 'Thor_ The Dark World',\n",
              " 'Kingsman_ The Secret Service',\n",
              " 'Doctor Strange',\n",
              " 'Sherlock Holmes',\n",
              " 'Star Trek',\n",
              " 'Casino Royale',\n",
              " 'Jurassic World',\n",
              " 'X-Men',\n",
              " 'Thor_ Ragnarok',\n",
              " 'Taken',\n",
              " 'Ant-Man',\n",
              " 'The Amazing Spider-Man',\n",
              " 'Guardians of the Galaxy Vol. 2',\n",
              " 'Star Wars_ Episode VIII - The Last Jedi',\n",
              " 'Rogue One_ A Star Wars Story',\n",
              " 'Wonder Woman',\n",
              " 'Spider-Man 2',\n",
              " 'Looper',\n",
              " 'Dunkirk',\n",
              " 'Lock, Stock and Two Smoking Barrels',\n",
              " 'Independence Day',\n",
              " 'Kick-Ass',\n",
              " 'John Wick',\n",
              " 'Men in Black',\n",
              " 'The Matrix Reloaded',\n",
              " 'X2_ X-Men United',\n",
              " '21 Jump Street',\n",
              " 'Oldboy',\n",
              " 'The Bourne Identity',\n",
              " 'Minority Report',\n",
              " 'Harry Potter and the Order of the Phoenix',\n",
              " 'Spider-Man_ Homecoming',\n",
              " 'Rise of the Planet of the Apes',\n",
              " 'I, Robot',\n",
              " 'Watchmen']"
            ]
          },
          "execution_count": 76,
          "metadata": {},
          "output_type": "execute_result"
        }
      ],
      "source": [
        "[i for i in action if i in dir_list]"
      ]
    },
    {
      "cell_type": "code",
      "execution_count": null,
      "id": "b12f1f5e",
      "metadata": {
        "id": "b12f1f5e"
      },
      "outputs": [],
      "source": []
    },
    {
      "cell_type": "code",
      "source": [
        "df = pd.read_csv('/content/drive/MyDrive/imdb.csv')"
      ],
      "metadata": {
        "id": "nTDUWLbh64Ig"
      },
      "id": "nTDUWLbh64Ig",
      "execution_count": 4,
      "outputs": []
    },
    {
      "cell_type": "code",
      "source": [
        "# reviews is a pandas series\n",
        "def preprocess_reviews(reviews):\n",
        "  reviews_processed = reviews.str.replace('<br />','')\n",
        "  reviews_processed = reviews.str.lower()\n",
        "  return reviews_processed\n",
        "\n",
        "df['review'] = preprocess_reviews(df['review'])\n",
        "\n",
        "X = df['review'].values\n",
        "y = df['sentiment'].apply(lambda x:1 if x=='positive' else 0)\n",
        "\n",
        "X_train, X_test, y_train, y_test = train_test_split(X, y,test_size=0.2, shuffle=True)\n",
        "\n",
        "tokenizer = Tokenizer(num_words=5000)\n",
        "tokenizer.fit_on_texts(X_train)\n",
        "\n",
        "X_train_token = tokenizer.texts_to_sequences(X_train)\n",
        "X_test_token = tokenizer.texts_to_sequences(X_test)\n",
        "\n",
        "vocab_size = len(tokenizer.word_index) + 1"
      ],
      "metadata": {
        "id": "lmzk71gT9OB0"
      },
      "id": "lmzk71gT9OB0",
      "execution_count": 5,
      "outputs": []
    },
    {
      "cell_type": "code",
      "source": [
        "maxlen = 100\n",
        "X_train = pad_sequences(X_train_token, padding='pre', maxlen=maxlen)\n",
        "X_test = pad_sequences(X_test_token, padding='pre', maxlen=maxlen)\n",
        "\n",
        "embedding_dim = 50\n",
        "\n",
        "model = Sequential()\n",
        "model.add(layers.Embedding(input_dim=vocab_size, \n",
        "                           output_dim=embedding_dim, \n",
        "                           input_length=maxlen))\n",
        "model.add(layers.LSTM(50,activation='relu'))\n",
        "model.add(layers.Dense(10, activation='relu'))\n",
        "model.add(layers.Dense(1, activation='sigmoid'))\n",
        "model.compile(optimizer='adam',\n",
        "              loss='binary_crossentropy',\n",
        "              metrics=['accuracy'])\n",
        "model.summary()\n",
        "\n",
        "history = model.fit(X_train, y_train,\n",
        "                    epochs=2,\n",
        "                    # verbose=True,\n",
        "                    validation_data=(X_test, y_test))#,\n",
        "                    # batch_size=50)\n",
        "loss, accuracy = model.evaluate(X_train, y_train, verbose=False)\n",
        "print(\"Training Accuracy: {:.4f}\".format(accuracy))\n",
        "loss, accuracy = model.evaluate(X_test, y_test, verbose=False)\n",
        "print(\"Testing Accuracy:  {:.4f}\".format(accuracy))\n",
        "plot_history(history)"
      ],
      "metadata": {
        "colab": {
          "base_uri": "https://localhost:8080/",
          "height": 753
        },
        "id": "KUkRa8n8yGQe",
        "outputId": "d037006a-b9b5-4109-fc78-9ecd7dd3c7be"
      },
      "id": "KUkRa8n8yGQe",
      "execution_count": 8,
      "outputs": [
        {
          "output_type": "stream",
          "name": "stderr",
          "text": [
            "WARNING:tensorflow:Layer lstm_1 will not use cuDNN kernels since it doesn't meet the criteria. It will use a generic GPU kernel as fallback when running on GPU.\n"
          ]
        },
        {
          "output_type": "stream",
          "name": "stdout",
          "text": [
            "Model: \"sequential_1\"\n",
            "_________________________________________________________________\n",
            " Layer (type)                Output Shape              Param #   \n",
            "=================================================================\n",
            " embedding_1 (Embedding)     (None, 100, 50)           5606550   \n",
            "                                                                 \n",
            " lstm_1 (LSTM)               (None, 50)                20200     \n",
            "                                                                 \n",
            " dense_2 (Dense)             (None, 10)                510       \n",
            "                                                                 \n",
            " dense_3 (Dense)             (None, 1)                 11        \n",
            "                                                                 \n",
            "=================================================================\n",
            "Total params: 5,627,271\n",
            "Trainable params: 5,627,271\n",
            "Non-trainable params: 0\n",
            "_________________________________________________________________\n",
            "Epoch 1/2\n",
            "1250/1250 [==============================] - 126s 100ms/step - loss: 2.2195 - accuracy: 0.7149 - val_loss: 0.5168 - val_accuracy: 0.7434\n",
            "Epoch 2/2\n",
            "1250/1250 [==============================] - 113s 91ms/step - loss: 0.4675 - accuracy: 0.7803 - val_loss: 0.5004 - val_accuracy: 0.7516\n",
            "Training Accuracy: 0.8082\n",
            "Testing Accuracy:  0.7516\n"
          ]
        },
        {
          "output_type": "display_data",
          "data": {
            "text/plain": [
              "<Figure size 864x360 with 2 Axes>"
            ],
            "image/png": "[encoded data removed]"
          },
          "metadata": {
            "needs_background": "light"
          }
        }
      ]
    },
    {
      "cell_type": "code",
      "source": [
        "maxlen = 100\n",
        "X_train = pad_sequences(X_train_token, padding='pre', maxlen=maxlen)\n",
        "X_test = pad_sequences(X_test_token, padding='pre', maxlen=maxlen)\n",
        "\n",
        "embedding_dim = 50\n",
        "\n",
        "model = Sequential()\n",
        "model.add(layers.Embedding(input_dim=vocab_size, \n",
        "                           output_dim=embedding_dim, \n",
        "                           input_length=maxlen))\n",
        "model.add(layers.LSTM(50,activation='relu'))\n",
        "model.add(layers.Dense(10, activation='relu'))\n",
        "model.add(layers.Dense(1, activation='sigmoid'))\n",
        "model.compile(optimizer='adam',\n",
        "              loss='binary_crossentropy',\n",
        "              metrics=['accuracy'])\n",
        "model.summary()\n",
        "\n",
        "history = model.fit(X_train, y_train,\n",
        "                    epochs=5,\n",
        "                    # verbose=True,\n",
        "                    validation_data=(X_test, y_test))#,\n",
        "                    # batch_size=50)\n",
        "loss, accuracy = model.evaluate(X_train, y_train, verbose=False)\n",
        "print(\"Training Accuracy: {:.4f}\".format(accuracy))\n",
        "loss, accuracy = model.evaluate(X_test, y_test, verbose=False)\n",
        "print(\"Testing Accuracy:  {:.4f}\".format(accuracy))\n",
        "plot_history(history)"
      ],
      "metadata": {
        "colab": {
          "base_uri": "https://localhost:8080/",
          "height": 839
        },
        "id": "ooOCceidxhAU",
        "outputId": "24157f87-e75f-42be-e9cb-9cc25c442b8e"
      },
      "id": "ooOCceidxhAU",
      "execution_count": null,
      "outputs": [
        {
          "output_type": "stream",
          "name": "stdout",
          "text": [
            "Model: \"sequential_26\"\n",
            "_________________________________________________________________\n",
            " Layer (type)                Output Shape              Param #   \n",
            "=================================================================\n",
            " embedding_18 (Embedding)    (None, 100, 50)           5722800   \n",
            "                                                                 \n",
            " lstm_18 (LSTM)              (None, 50)                20200     \n",
            "                                                                 \n",
            " dense_22 (Dense)            (None, 10)                510       \n",
            "                                                                 \n",
            " dense_23 (Dense)            (None, 1)                 11        \n",
            "                                                                 \n",
            "=================================================================\n",
            "Total params: 5,743,521\n",
            "Trainable params: 5,743,521\n",
            "Non-trainable params: 0\n",
            "_________________________________________________________________\n",
            "Epoch 1/5\n",
            "1250/1250 [==============================] - 140s 111ms/step - loss: 58458.2266 - accuracy: 0.6982 - val_loss: 0.5711 - val_accuracy: 0.7275\n",
            "Epoch 2/5\n",
            "1250/1250 [==============================] - 130s 104ms/step - loss: 22922917888.0000 - accuracy: 0.7570 - val_loss: 15694.9502 - val_accuracy: 0.7486\n",
            "Epoch 3/5\n",
            "1250/1250 [==============================] - 131s 105ms/step - loss: 1923798.8750 - accuracy: 0.7696 - val_loss: 0.5408 - val_accuracy: 0.7213\n",
            "Epoch 4/5\n",
            "1250/1250 [==============================] - 132s 105ms/step - loss: 3336.5139 - accuracy: 0.7600 - val_loss: 0.5485 - val_accuracy: 0.7139\n",
            "Epoch 5/5\n",
            "1250/1250 [==============================] - 132s 105ms/step - loss: 0.4936 - accuracy: 0.7638 - val_loss: 0.5469 - val_accuracy: 0.7171\n",
            "Training Accuracy: 0.7761\n",
            "Testing Accuracy:  0.7171\n"
          ]
        },
        {
          "output_type": "display_data",
          "data": {
            "text/plain": [
              "<Figure size 864x360 with 2 Axes>"
            ],
            "image/png": "[encoded data removed]"
          },
          "metadata": {
            "needs_background": "light"
          }
        }
      ]
    },
    {
      "cell_type": "code",
      "source": [
        "maxlen = 100\n",
        "X_train = pad_sequences(X_train_token, padding='pre', maxlen=maxlen)\n",
        "X_test = pad_sequences(X_test_token, padding='pre', maxlen=maxlen)\n",
        "\n",
        "embedding_dim = 50\n",
        "\n",
        "model = Sequential()\n",
        "model.add(layers.Embedding(input_dim=vocab_size, \n",
        "                           output_dim=embedding_dim, \n",
        "                           input_length=maxlen))\n",
        "model.add(layers.SimpleRNN(50,activation='relu'))\n",
        "model.add(layers.Dense(10, activation='relu'))\n",
        "model.add(layers.Dense(1, activation='sigmoid'))\n",
        "model.compile(optimizer='adam',\n",
        "              loss='binary_crossentropy',\n",
        "              metrics=['accuracy'])\n",
        "model.summary()\n",
        "\n",
        "history = model.fit(X_train, y_train,\n",
        "                    epochs=5,\n",
        "                    # verbose=True,\n",
        "                    validation_data=(X_test, y_test))#,\n",
        "                    # batch_size=50)\n",
        "loss, accuracy = model.evaluate(X_train, y_train, verbose=False)\n",
        "print(\"Training Accuracy: {:.4f}\".format(accuracy))\n",
        "loss, accuracy = model.evaluate(X_test, y_test, verbose=False)\n",
        "print(\"Testing Accuracy:  {:.4f}\".format(accuracy))\n",
        "plot_history(history)"
      ],
      "metadata": {
        "colab": {
          "base_uri": "https://localhost:8080/",
          "height": 839
        },
        "id": "5Bwi3ve50JyI",
        "outputId": "cf62d195-83a9-4bd8-9c93-a912f0d088dd"
      },
      "id": "5Bwi3ve50JyI",
      "execution_count": null,
      "outputs": [
        {
          "output_type": "stream",
          "name": "stdout",
          "text": [
            "Model: \"sequential_27\"\n",
            "_________________________________________________________________\n",
            " Layer (type)                Output Shape              Param #   \n",
            "=================================================================\n",
            " embedding_19 (Embedding)    (None, 100, 50)           5722800   \n",
            "                                                                 \n",
            " simple_rnn (SimpleRNN)      (None, 50)                5050      \n",
            "                                                                 \n",
            " dense_24 (Dense)            (None, 10)                510       \n",
            "                                                                 \n",
            " dense_25 (Dense)            (None, 1)                 11        \n",
            "                                                                 \n",
            "=================================================================\n",
            "Total params: 5,728,371\n",
            "Trainable params: 5,728,371\n",
            "Non-trainable params: 0\n",
            "_________________________________________________________________\n",
            "Epoch 1/5\n",
            "1250/1250 [==============================] - 112s 87ms/step - loss: 0.4446 - accuracy: 0.7843 - val_loss: 0.3582 - val_accuracy: 0.8485\n",
            "Epoch 2/5\n",
            "1250/1250 [==============================] - 107s 85ms/step - loss: 0.3134 - accuracy: 0.8686 - val_loss: 0.3245 - val_accuracy: 0.8592\n",
            "Epoch 3/5\n",
            "1250/1250 [==============================] - 105s 84ms/step - loss: 0.2806 - accuracy: 0.8842 - val_loss: 0.3299 - val_accuracy: 0.8575\n",
            "Epoch 4/5\n",
            "1250/1250 [==============================] - 104s 83ms/step - loss: 0.2465 - accuracy: 0.9001 - val_loss: 0.3397 - val_accuracy: 0.8580\n",
            "Epoch 5/5\n",
            "1250/1250 [==============================] - 106s 84ms/step - loss: 0.2407 - accuracy: 0.9028 - val_loss: 0.3507 - val_accuracy: 0.8583\n",
            "Training Accuracy: 0.9342\n",
            "Testing Accuracy:  0.8583\n"
          ]
        },
        {
          "output_type": "display_data",
          "data": {
            "text/plain": [
              "<Figure size 864x360 with 2 Axes>"
            ],
            "image/png": "[encoded data removed]"
          },
          "metadata": {
            "needs_background": "light"
          }
        }
      ]
    },
    {
      "cell_type": "code",
      "source": [
        "maxlen = 100\n",
        "X_train = pad_sequences(X_train_token, padding='pre', maxlen=maxlen)\n",
        "X_test = pad_sequences(X_test_token, padding='pre', maxlen=maxlen)\n",
        "\n",
        "embedding_dim = 50\n",
        "\n",
        "model = Sequential()\n",
        "model.add(layers.Embedding(input_dim=vocab_size, \n",
        "                           output_dim=embedding_dim, \n",
        "                           input_length=maxlen))\n",
        "model.add(layers.GRU(50,activation='relu'))\n",
        "model.add(layers.Dense(10, activation='relu'))\n",
        "model.add(layers.Dense(1, activation='sigmoid'))\n",
        "model.compile(optimizer='adam',\n",
        "              loss='binary_crossentropy',\n",
        "              metrics=['accuracy'])\n",
        "model.summary()\n",
        "\n",
        "history = model.fit(X_train, y_train,\n",
        "                    epochs=5,\n",
        "                    # verbose=True,\n",
        "                    validation_data=(X_test, y_test))#,\n",
        "                    # batch_size=50)\n",
        "loss, accuracy = model.evaluate(X_train, y_train, verbose=False)\n",
        "print(\"Training Accuracy: {:.4f}\".format(accuracy))\n",
        "loss, accuracy = model.evaluate(X_test, y_test, verbose=False)\n",
        "print(\"Testing Accuracy:  {:.4f}\".format(accuracy))\n",
        "plot_history(history)"
      ],
      "metadata": {
        "colab": {
          "base_uri": "https://localhost:8080/",
          "height": 857
        },
        "id": "R-4DjQwJ3cfk",
        "outputId": "707bc52a-a89c-4a3d-da28-26a8bf59ec90"
      },
      "id": "R-4DjQwJ3cfk",
      "execution_count": 29,
      "outputs": [
        {
          "output_type": "stream",
          "name": "stderr",
          "text": [
            "WARNING:tensorflow:Layer gru will not use cuDNN kernels since it doesn't meet the criteria. It will use a generic GPU kernel as fallback when running on GPU.\n"
          ]
        },
        {
          "output_type": "stream",
          "name": "stdout",
          "text": [
            "Model: \"sequential_5\"\n",
            "_________________________________________________________________\n",
            " Layer (type)                Output Shape              Param #   \n",
            "=================================================================\n",
            " embedding_5 (Embedding)     (None, 100, 50)           5711350   \n",
            "                                                                 \n",
            " gru (GRU)                   (None, 50)                15300     \n",
            "                                                                 \n",
            " dense_8 (Dense)             (None, 10)                510       \n",
            "                                                                 \n",
            " dense_9 (Dense)             (None, 1)                 11        \n",
            "                                                                 \n",
            "=================================================================\n",
            "Total params: 5,727,171\n",
            "Trainable params: 5,727,171\n",
            "Non-trainable params: 0\n",
            "_________________________________________________________________\n",
            "Epoch 1/5\n",
            "1250/1250 [==============================] - 136s 108ms/step - loss: 0.4850 - accuracy: 0.7604 - val_loss: 0.3583 - val_accuracy: 0.8519\n",
            "Epoch 2/5\n",
            "1250/1250 [==============================] - 141s 112ms/step - loss: 0.3043 - accuracy: 0.8722 - val_loss: 0.3406 - val_accuracy: 0.8551\n",
            "Epoch 3/5\n",
            "1250/1250 [==============================] - 133s 106ms/step - loss: 0.2582 - accuracy: 0.8933 - val_loss: 0.3284 - val_accuracy: 0.8549\n",
            "Epoch 4/5\n",
            "1250/1250 [==============================] - 135s 108ms/step - loss: 0.2213 - accuracy: 0.9122 - val_loss: 0.3539 - val_accuracy: 0.8570\n",
            "Epoch 5/5\n",
            "1250/1250 [==============================] - 153s 123ms/step - loss: 0.1958 - accuracy: 0.9237 - val_loss: 0.3472 - val_accuracy: 0.8567\n",
            "Training Accuracy: 0.9517\n",
            "Testing Accuracy:  0.8567\n"
          ]
        },
        {
          "output_type": "display_data",
          "data": {
            "text/plain": [
              "<Figure size 864x360 with 2 Axes>"
            ],
            "image/png": "[encoded data removed]"
          },
          "metadata": {
            "needs_background": "light"
          }
        }
      ]
    },
    {
      "cell_type": "code",
      "source": [],
      "metadata": {
        "id": "qOG_aLf4N2um"
      },
      "id": "qOG_aLf4N2um",
      "execution_count": null,
      "outputs": []
    },
    {
      "cell_type": "code",
      "source": [
        "movie_df = pd.read_csv('/content/drive/MyDrive/Deep-Learning-Movie-Reviews/2_reviews_per_movie_raw/50_50 2011.csv')"
      ],
      "metadata": {
        "id": "JE3aYLbEBRl5"
      },
      "id": "JE3aYLbEBRl5",
      "execution_count": 9,
      "outputs": []
    },
    {
      "cell_type": "code",
      "source": [
        "# reviews: np vector of reviews (in text form)\n",
        "# model: a keras model\n",
        "### returns: flattened np array of predictions (1 for positive, 0 for negative) \n",
        "def predict_pos(reviews, model):\n",
        "  X = preprocess_reviews(reviews).values\n",
        "  X_token = tokenizer.texts_to_sequences(X)\n",
        "\n",
        "  maxlen = model.layers[0].input_shape[1] # note: may be fragile\n",
        "  X_token = pad_sequences(X_token, padding='pre', maxlen=maxlen)\n",
        "  preds = model.predict(X_token).flatten()\n",
        "  return (preds >= 0.5).astype(int)\n",
        "\n",
        "predict_pos(movie_df['review'], model)"
      ],
      "metadata": {
        "colab": {
          "base_uri": "https://localhost:8080/"
        },
        "id": "VVIiaCFN2kRQ",
        "outputId": "4c9503bd-fbb2-4049-a5b0-0f2c39bb9c00"
      },
      "id": "VVIiaCFN2kRQ",
      "execution_count": 10,
      "outputs": [
        {
          "output_type": "stream",
          "name": "stdout",
          "text": [
            "14/14 [==============================] - 0s 14ms/step\n"
          ]
        },
        {
          "output_type": "execute_result",
          "data": {
            "text/plain": [
              "array([1, 1, 1, 1, 1, 1, 1, 1, 1, 1, 0, 1, 1, 1, 1, 1, 1, 0, 0, 1, 0, 1,\n",
              "       1, 0, 0, 0, 1, 0, 0, 0, 0, 1, 1, 1, 1, 1, 1, 1, 1, 1, 1, 1, 1, 1,\n",
              "       0, 1, 1, 1, 1, 1, 0, 1, 0, 0, 0, 0, 0, 0, 0, 0, 1, 1, 1, 1, 1, 1,\n",
              "       1, 1, 1, 1, 1, 1, 1, 1, 1, 1, 0, 1, 1, 1, 1, 1, 1, 0, 1, 1, 1, 1,\n",
              "       1, 0, 0, 1, 1, 1, 1, 0, 0, 0, 0, 0, 1, 1, 0, 0, 1, 1, 1, 1, 0, 1,\n",
              "       1, 1, 1, 1, 0, 1, 1, 1, 1, 0, 1, 1, 1, 1, 0, 0, 1, 0, 1, 1, 0, 0,\n",
              "       1, 1, 1, 1, 0, 1, 0, 0, 1, 0, 1, 1, 0, 1, 1, 1, 0, 0, 1, 0, 1, 0,\n",
              "       1, 1, 1, 1, 1, 0, 1, 1, 1, 1, 0, 1, 1, 1, 1, 1, 1, 1, 1, 1, 1, 1,\n",
              "       1, 0, 0, 0, 1, 1, 1, 0, 1, 1, 1, 1, 0, 1, 0, 1, 1, 0, 1, 0, 1, 1,\n",
              "       0, 1, 1, 1, 1, 1, 1, 1, 1, 1, 1, 1, 1, 1, 1, 1, 0, 0, 1, 1, 1, 1,\n",
              "       1, 1, 1, 0, 1, 1, 1, 0, 1, 1, 1, 0, 1, 0, 1, 1, 0, 1, 1, 0, 1, 0,\n",
              "       1, 0, 0, 1, 1, 1, 1, 1, 1, 1, 1, 0, 1, 0, 1, 1, 1, 0, 0, 1, 0, 1,\n",
              "       1, 0, 1, 0, 0, 1, 1, 0, 0, 1, 0, 1, 1, 1, 1, 1, 0, 0, 1, 1, 1, 1,\n",
              "       1, 0, 1, 0, 0, 1, 0, 0, 0, 0, 1, 0, 1, 1, 0, 1, 1, 1, 1, 1, 1, 1,\n",
              "       1, 0, 1, 1, 1, 1, 1, 1, 1, 1, 1, 1, 0, 1, 1, 1, 0, 1, 1, 0, 0, 1,\n",
              "       1, 0, 0, 0, 1, 1, 1, 1, 0, 1, 1, 0, 1, 1, 0, 1, 1, 1, 0, 1, 1, 1,\n",
              "       1, 0, 0, 0, 1, 0, 0, 1, 1, 0, 1, 1, 1, 1, 1, 1, 1, 1, 1, 1, 1, 1,\n",
              "       1, 1, 1, 1, 0, 1, 1, 1, 0, 1, 1, 0, 1, 1, 0, 1, 0, 1, 1, 1, 1, 1,\n",
              "       1, 1, 0, 1, 1, 1, 0, 0, 1, 1, 1, 1, 1, 1, 1, 1, 1, 0, 1, 1, 0, 1,\n",
              "       1, 0, 1, 1, 1, 0, 1, 1, 1, 1])"
            ]
          },
          "metadata": {},
          "execution_count": 10
        }
      ]
    },
    {
      "cell_type": "code",
      "source": [
        "# (IN PROGRESS)\n",
        "# Get the number of positive and negative reviews for each movie\n",
        "path = \"/content/drive/MyDrive/Deep-Learning-Movie-Reviews/2_reviews_per_movie_raw/\"\n",
        "dir_list = os.listdir(path)\n",
        "\n",
        "res = []\n",
        "for fname in dir_list[:5]: # TODO: try on all movies\n",
        "  movie_df = pd.read_csv(path + fname)\n",
        "  preds = predict_pos(movie_df['review'], model)\n",
        "  res.append({\n",
        "    \"Movie\": fname,\n",
        "    \"Positive\": np.sum(preds),\n",
        "    \"Negative\": len(preds) - np.sum(preds),\n",
        "    \"Mean\": np.mean(preds)\n",
        "  })\n",
        "\n",
        "# print(res)\n",
        "pd.DataFrame(res)"
      ],
      "metadata": {
        "colab": {
          "base_uri": "https://localhost:8080/",
          "height": 293
        },
        "id": "7wtHaER1OS2l",
        "outputId": "4642a570-5b6b-4752-9b5a-99b99d632a67"
      },
      "id": "7wtHaER1OS2l",
      "execution_count": 19,
      "outputs": [
        {
          "output_type": "stream",
          "name": "stdout",
          "text": [
            "39/39 [==============================] - 1s 14ms/step\n",
            "20/20 [==============================] - 0s 15ms/step\n",
            "14/14 [==============================] - 0s 15ms/step\n",
            "9/9 [==============================] - 0s 15ms/step\n",
            "105/105 [==============================] - 1s 14ms/step\n"
          ]
        },
        {
          "output_type": "execute_result",
          "data": {
            "text/plain": [
              "                        Movie  Positive  Negative      Mean\n",
              "0         Braveheart 1995.csv       886       353  0.715093\n",
              "1     Bruce Almighty 2003.csv       383       255  0.600313\n",
              "2             Capote 2005.csv       295       153  0.658482\n",
              "3         Caddyshack 1980.csv       170       108  0.611511\n",
              "4  Bohemian Rhapsody 2018.csv      2482       850  0.744898"
            ],
            "text/html": [
              "\n",
              "  <div id=\"df-21379993-8b22-47fd-ad1a-5ada27c9962f\">\n",
              "    <div class=\"colab-df-container\">\n",
              "      <div>\n",
              "<style scoped>\n",
              "    .dataframe tbody tr th:only-of-type {\n",
              "        vertical-align: middle;\n",
              "    }\n",
              "\n",
              "    .dataframe tbody tr th {\n",
              "        vertical-align: top;\n",
              "    }\n",
              "\n",
              "    .dataframe thead th {\n",
              "        text-align: right;\n",
              "    }\n",
              "</style>\n",
              "<table border=\"1\" class=\"dataframe\">\n",
              "  <thead>\n",
              "    <tr style=\"text-align: right;\">\n",
              "      <th></th>\n",
              "      <th>Movie</th>\n",
              "      <th>Positive</th>\n",
              "      <th>Negative</th>\n",
              "      <th>Mean</th>\n",
              "    </tr>\n",
              "  </thead>\n",
              "  <tbody>\n",
              "    <tr>\n",
              "      <th>0</th>\n",
              "      <td>Braveheart 1995.csv</td>\n",
              "      <td>886</td>\n",
              "      <td>353</td>\n",
              "      <td>0.715093</td>\n",
              "    </tr>\n",
              "    <tr>\n",
              "      <th>1</th>\n",
              "      <td>Bruce Almighty 2003.csv</td>\n",
              "      <td>383</td>\n",
              "      <td>255</td>\n",
              "      <td>0.600313</td>\n",
              "    </tr>\n",
              "    <tr>\n",
              "      <th>2</th>\n",
              "      <td>Capote 2005.csv</td>\n",
              "      <td>295</td>\n",
              "      <td>153</td>\n",
              "      <td>0.658482</td>\n",
              "    </tr>\n",
              "    <tr>\n",
              "      <th>3</th>\n",
              "      <td>Caddyshack 1980.csv</td>\n",
              "      <td>170</td>\n",
              "      <td>108</td>\n",
              "      <td>0.611511</td>\n",
              "    </tr>\n",
              "    <tr>\n",
              "      <th>4</th>\n",
              "      <td>Bohemian Rhapsody 2018.csv</td>\n",
              "      <td>2482</td>\n",
              "      <td>850</td>\n",
              "      <td>0.744898</td>\n",
              "    </tr>\n",
              "  </tbody>\n",
              "</table>\n",
              "</div>\n",
              "      <button class=\"colab-df-convert\" onclick=\"convertToInteractive('df-21379993-8b22-47fd-ad1a-5ada27c9962f')\"\n",
              "              title=\"Convert this dataframe to an interactive table.\"\n",
              "              style=\"display:none;\">\n",
              "        \n",
              "  <svg xmlns=\"http://www.w3.org/2000/svg\" height=\"24px\"viewBox=\"0 0 24 24\"\n",
              "       width=\"24px\">\n",
              "    <path d=\"M0 0h24v24H0V0z\" fill=\"none\"/>\n",
              "    <path d=\"M18.56 5.44l.94 2.06.94-2.06 2.06-.94-2.06-.94-.94-2.06-.94 2.06-2.06.94zm-11 1L8.5 8.5l.94-2.06 2.06-.94-2.06-.94L8.5 2.5l-.94 2.06-2.06.94zm10 10l.94 2.06.94-2.06 2.06-.94-2.06-.94-.94-2.06-.94 2.06-2.06.94z\"/><path d=\"M17.41 7.96l-1.37-1.37c-.4-.4-.92-.59-1.43-.59-.52 0-1.04.2-1.43.59L10.3 9.45l-7.72 7.72c-.78.78-.78 2.05 0 2.83L4 21.41c.39.39.9.59 1.41.59.51 0 1.02-.2 1.41-.59l7.78-7.78 2.81-2.81c.8-.78.8-2.07 0-2.86zM5.41 20L4 18.59l7.72-7.72 1.47 1.35L5.41 20z\"/>\n",
              "  </svg>\n",
              "      </button>\n",
              "      \n",
              "  <style>\n",
              "    .colab-df-container {\n",
              "      display:flex;\n",
              "      flex-wrap:wrap;\n",
              "      gap: 12px;\n",
              "    }\n",
              "\n",
              "    .colab-df-convert {\n",
              "      background-color: #E8F0FE;\n",
              "      border: none;\n",
              "      border-radius: 50%;\n",
              "      cursor: pointer;\n",
              "      display: none;\n",
              "      fill: #1967D2;\n",
              "      height: 32px;\n",
              "      padding: 0 0 0 0;\n",
              "      width: 32px;\n",
              "    }\n",
              "\n",
              "    .colab-df-convert:hover {\n",
              "      background-color: #E2EBFA;\n",
              "      box-shadow: 0px 1px 2px rgba(60, 64, 67, 0.3), 0px 1px 3px 1px rgba(60, 64, 67, 0.15);\n",
              "      fill: #174EA6;\n",
              "    }\n",
              "\n",
              "    [theme=dark] .colab-df-convert {\n",
              "      background-color: #3B4455;\n",
              "      fill: #D2E3FC;\n",
              "    }\n",
              "\n",
              "    [theme=dark] .colab-df-convert:hover {\n",
              "      background-color: #434B5C;\n",
              "      box-shadow: 0px 1px 3px 1px rgba(0, 0, 0, 0.15);\n",
              "      filter: drop-shadow(0px 1px 2px rgba(0, 0, 0, 0.3));\n",
              "      fill: #FFFFFF;\n",
              "    }\n",
              "  </style>\n",
              "\n",
              "      <script>\n",
              "        const buttonEl =\n",
              "          document.querySelector('#df-21379993-8b22-47fd-ad1a-5ada27c9962f button.colab-df-convert');\n",
              "        buttonEl.style.display =\n",
              "          google.colab.kernel.accessAllowed ? 'block' : 'none';\n",
              "\n",
              "        async function convertToInteractive(key) {\n",
              "          const element = document.querySelector('#df-21379993-8b22-47fd-ad1a-5ada27c9962f');\n",
              "          const dataTable =\n",
              "            await google.colab.kernel.invokeFunction('convertToInteractive',\n",
              "                                                     [key], {});\n",
              "          if (!dataTable) return;\n",
              "\n",
              "          const docLinkHtml = 'Like what you see? Visit the ' +\n",
              "            '<a target=\"_blank\" href=https://colab.research.google.com/notebooks/data_table.ipynb>data table notebook</a>'\n",
              "            + ' to learn more about interactive tables.';\n",
              "          element.innerHTML = '';\n",
              "          dataTable['output_type'] = 'display_data';\n",
              "          await google.colab.output.renderOutput(dataTable, element);\n",
              "          const docLink = document.createElement('div');\n",
              "          docLink.innerHTML = docLinkHtml;\n",
              "          element.appendChild(docLink);\n",
              "        }\n",
              "      </script>\n",
              "    </div>\n",
              "  </div>\n",
              "  "
            ]
          },
          "metadata": {},
          "execution_count": 19
        }
      ]
    },
    {
      "cell_type": "code",
      "source": [],
      "metadata": {
        "id": "-1roR7XSCo31"
      },
      "id": "-1roR7XSCo31",
      "execution_count": null,
      "outputs": []
    }
  ],
  "metadata": {
    "kernelspec": {
      "display_name": "Python 3",
      "language": "python",
      "name": "python3"
    },
    "language_info": {
      "codemirror_mode": {
        "name": "ipython",
        "version": 3
      },
      "file_extension": ".py",
      "mimetype": "text/x-python",
      "name": "python",
      "nbconvert_exporter": "python",
      "pygments_lexer": "ipython3",
      "version": "3.8.8"
    },
    "colab": {
      "provenance": []
    },
    "gpuClass": "standard",
    "accelerator": "GPU"
  },
  "nbformat": 4,
  "nbformat_minor": 5
}